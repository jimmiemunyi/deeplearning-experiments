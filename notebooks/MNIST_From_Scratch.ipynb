{
  "nbformat": 4,
  "nbformat_minor": 0,
  "metadata": {
    "colab": {
      "name": "MNIST From Scratch.ipynb",
      "provenance": [],
      "collapsed_sections": [],
      "include_colab_link": true
    },
    "kernelspec": {
      "name": "python3",
      "display_name": "Python 3"
    }
  },
  "cells": [
    {
      "cell_type": "markdown",
      "metadata": {
        "id": "view-in-github",
        "colab_type": "text"
      },
      "source": [
        "<a href=\"https://colab.research.google.com/github/jimmiemunyi/deeplearning-experiments/blob/main/notebooks/MNIST_From_Scratch.ipynb\" target=\"_parent\"><img src=\"https://colab.research.google.com/assets/colab-badge.svg\" alt=\"Open In Colab\"/></a>"
      ]
    },
    {
      "cell_type": "markdown",
      "metadata": {
        "id": "d2QpBykCy6PE"
      },
      "source": [
        "# Introduction"
      ]
    },
    {
      "cell_type": "markdown",
      "metadata": {
        "id": "fercusMEy9xZ"
      },
      "source": [
        "We will be solving the full [MNIST DataSet](http://yann.lecun.com/exdb/mnist/) writing the code from Scratch."
      ]
    },
    {
      "cell_type": "markdown",
      "metadata": {
        "id": "Zq9327Ec8yV_"
      },
      "source": [
        "Import Packages we will use:"
      ]
    },
    {
      "cell_type": "code",
      "metadata": {
        "id": "h0oO6gMOeRrD"
      },
      "source": [
        "!pip install -Uqq fastai"
      ],
      "execution_count": 1,
      "outputs": []
    },
    {
      "cell_type": "code",
      "metadata": {
        "id": "rXLX3jBgA9HS"
      },
      "source": [
        "from fastai.vision.all import *\n",
        "\n",
        "matplotlib.rc('image', cmap='Greys')"
      ],
      "execution_count": 2,
      "outputs": []
    },
    {
      "cell_type": "markdown",
      "metadata": {
        "id": "xF1rkdHjzhl_"
      },
      "source": [
        "Downloading and extract the data. We will use the dataset hosted on [fastai datasets](https://course.fast.ai/datasets)."
      ]
    },
    {
      "cell_type": "code",
      "metadata": {
        "id": "WSWmu1VFBa2g"
      },
      "source": [
        "path = untar_data(URLs.MNIST)"
      ],
      "execution_count": 3,
      "outputs": []
    },
    {
      "cell_type": "code",
      "metadata": {
        "id": "up_iBDtjBeRh"
      },
      "source": [
        "Path.BASE_PATH = path"
      ],
      "execution_count": 4,
      "outputs": []
    },
    {
      "cell_type": "markdown",
      "metadata": {
        "id": "xMZgvr0Ez1U4"
      },
      "source": [
        "Check the content of our folders:"
      ]
    },
    {
      "cell_type": "code",
      "metadata": {
        "colab": {
          "base_uri": "https://localhost:8080/"
        },
        "id": "f286bdbqBq04",
        "outputId": "03a72efd-ac15-41ae-f4ef-a38a6807cf9b"
      },
      "source": [
        "path.ls()"
      ],
      "execution_count": 5,
      "outputs": [
        {
          "output_type": "execute_result",
          "data": {
            "text/plain": [
              "(#2) [Path('testing'),Path('training')]"
            ]
          },
          "metadata": {
            "tags": []
          },
          "execution_count": 5
        }
      ]
    },
    {
      "cell_type": "code",
      "metadata": {
        "colab": {
          "base_uri": "https://localhost:8080/"
        },
        "id": "LJv8qVgWBrvU",
        "outputId": "c09e1749-e4e3-467d-8d5c-9980bfac5443"
      },
      "source": [
        "(path/'training').ls().sorted()"
      ],
      "execution_count": 6,
      "outputs": [
        {
          "output_type": "execute_result",
          "data": {
            "text/plain": [
              "(#10) [Path('training/0'),Path('training/1'),Path('training/2'),Path('training/3'),Path('training/4'),Path('training/5'),Path('training/6'),Path('training/7'),Path('training/8'),Path('training/9')]"
            ]
          },
          "metadata": {
            "tags": []
          },
          "execution_count": 6
        }
      ]
    },
    {
      "cell_type": "code",
      "metadata": {
        "colab": {
          "base_uri": "https://localhost:8080/"
        },
        "id": "xK772xhiBvZ0",
        "outputId": "5d9124d9-7bd8-4fe9-bec0-be1a608ec740"
      },
      "source": [
        "(path/'testing').ls().sorted()"
      ],
      "execution_count": 7,
      "outputs": [
        {
          "output_type": "execute_result",
          "data": {
            "text/plain": [
              "(#10) [Path('testing/0'),Path('testing/1'),Path('testing/2'),Path('testing/3'),Path('testing/4'),Path('testing/5'),Path('testing/6'),Path('testing/7'),Path('testing/8'),Path('testing/9')]"
            ]
          },
          "metadata": {
            "tags": []
          },
          "execution_count": 7
        }
      ]
    },
    {
      "cell_type": "markdown",
      "metadata": {
        "id": "bW6A2WK-z7ek"
      },
      "source": [
        "The data has been arranged in folders: `training` and `testing`, each with folders for each type of image `0-9`."
      ]
    },
    {
      "cell_type": "markdown",
      "metadata": {
        "id": "hXJBeZNXRYaJ"
      },
      "source": [
        "# Data Preprocessing"
      ]
    },
    {
      "cell_type": "markdown",
      "metadata": {
        "id": "eyMBnc2h0Jpj"
      },
      "source": [
        "Writing custom functions to get our data.\n",
        "\n",
        "`load_mnist_data` does the following:\n",
        "\n",
        "\n",
        "*   scans the directories and get the labels\n",
        "*   creates X and y lists for holding the independent and dependent variables respectively\n",
        "*   for each file in a label folder, open the Image and append it to x, and append its label to y\n",
        "*   stacks all the images into a tensor, casts them to float and normalize the data to be between 0 and 1\n",
        "*   turn y (dependent variable) into a tensor\n",
        "*   return X and y\n",
        "\n"
      ]
    },
    {
      "cell_type": "code",
      "metadata": {
        "id": "S5RTqxDMDia4"
      },
      "source": [
        "def load_mnist_data(dataset, path):\n",
        "\n",
        "  # scan all the directories and create a list of labels\n",
        "  labels = os.listdir(path/dataset)\n",
        "  labels.sort()\n",
        "\n",
        "  # create lists for samples and labels\n",
        "  X = []\n",
        "  y = []\n",
        "\n",
        "  # for each label folder\n",
        "  for label in labels:\n",
        "    # and for each image in given folder\n",
        "    for file in (path/dataset/label).ls().sorted():\n",
        "    # open the image and append it and labels to lists\n",
        "      image = Image.open(file)\n",
        "      X.append(tensor(image))\n",
        "      y.append(int(label))\n",
        "  # stack all the images into a tensor\n",
        "  # and casts them into floats and \n",
        "  # normalizes them to between 0 and 1\n",
        "  X = torch.stack(X).float()/255\n",
        "  # turn y into tensor \n",
        "  y = tensor(y)\n",
        "  return X, y\n",
        "      "
      ],
      "execution_count": 8,
      "outputs": []
    },
    {
      "cell_type": "markdown",
      "metadata": {
        "id": "M4X9prhV1j66"
      },
      "source": [
        "`create_data` loads the training and testing data, shuffles the training data and splits for validation data (using the percentage inputed as a parameter), flattens the X's, loads the data into datesets and returns them"
      ]
    },
    {
      "cell_type": "code",
      "metadata": {
        "id": "jFCTpQT6RHp7"
      },
      "source": [
        "def create_data(path, valid_split=0.2):\n",
        "\n",
        "  # load the training and testing dataset separately\n",
        "  X, y = load_mnist_data('training', path)\n",
        "  X_test, y_test = load_mnist_data('testing', path)\n",
        "\n",
        "  # shuffle the training data\n",
        "  # because I want to split for validation data\n",
        "  idx = torch.randperm(X.shape[0])\n",
        "  X = X[idx].view(X.size())\n",
        "  y = y[idx].view(y.size())\n",
        "\n",
        "  # Flatten the Training Images and Test Images\n",
        "  X = X.view(-1, 28*28)\n",
        "  X_test = X_test.view(-1, 28*28)\n",
        "\n",
        "  # default split is 20% \n",
        "  # but can be changed by parameter\n",
        "  train_index = int((1-valid_split) * X.shape[0])\n",
        "  X_train = X[:train_index]\n",
        "  y_train = y[:train_index]\n",
        "  X_valid = X[train_index:]\n",
        "  y_valid = y[train_index:]\n",
        "\n",
        "  # load the data into respective datasets\n",
        "  train = list(zip(X_train, y_train))\n",
        "  valid = list(zip(X_valid, y_valid))\n",
        "  test = list(zip(X_test, y_test))\n",
        "\n",
        "  # return the datasets\n",
        "  return train, valid, test"
      ],
      "execution_count": 9,
      "outputs": []
    },
    {
      "cell_type": "markdown",
      "metadata": {
        "id": "5OIW22sbReEG"
      },
      "source": [
        "## DataSet"
      ]
    },
    {
      "cell_type": "markdown",
      "metadata": {
        "id": "hOr8VHdQ18te"
      },
      "source": [
        "Create the training, validation and testing datasets:"
      ]
    },
    {
      "cell_type": "code",
      "metadata": {
        "id": "jziOq2xBxERD"
      },
      "source": [
        "train_dset, valid_dset, test_dset = create_data(path)"
      ],
      "execution_count": 10,
      "outputs": []
    },
    {
      "cell_type": "code",
      "metadata": {
        "colab": {
          "base_uri": "https://localhost:8080/"
        },
        "id": "rUDyHx-yDx48",
        "outputId": "7ccada58-61b0-48f7-96e6-1646e3d504be"
      },
      "source": [
        "len(train_dset), len(valid_dset), len(test_dset)"
      ],
      "execution_count": 11,
      "outputs": [
        {
          "output_type": "execute_result",
          "data": {
            "text/plain": [
              "(48000, 12000, 10000)"
            ]
          },
          "metadata": {
            "tags": []
          },
          "execution_count": 11
        }
      ]
    },
    {
      "cell_type": "markdown",
      "metadata": {
        "id": "KQMYOwWSRbvq"
      },
      "source": [
        "## DataLoaders"
      ]
    },
    {
      "cell_type": "markdown",
      "metadata": {
        "id": "4GcOwQ_Q2B-C"
      },
      "source": [
        "Create `DataLoaders` of the training and validation datasets.\n",
        "DataLoaders object groups the data in batches and shuffles the training data. "
      ]
    },
    {
      "cell_type": "code",
      "metadata": {
        "id": "P6TYesyMGHU0"
      },
      "source": [
        "train_dl = DataLoader(train_dset, bs=256, shuffle=True)\n",
        "valid_dl = DataLoader(valid_dset, bs=256, shuffle=False)\n",
        "\n",
        "dls = DataLoaders(train_dl, valid_dl)"
      ],
      "execution_count": 12,
      "outputs": []
    },
    {
      "cell_type": "code",
      "metadata": {
        "colab": {
          "base_uri": "https://localhost:8080/"
        },
        "id": "ZyheRDDgLNbc",
        "outputId": "ef07a534-16e4-470e-c2ce-d8134620050c"
      },
      "source": [
        "len(train_dl), len(valid_dl)"
      ],
      "execution_count": 13,
      "outputs": [
        {
          "output_type": "execute_result",
          "data": {
            "text/plain": [
              "(188, 47)"
            ]
          },
          "metadata": {
            "tags": []
          },
          "execution_count": 13
        }
      ]
    },
    {
      "cell_type": "markdown",
      "metadata": {
        "id": "5LYutfIlRPcF"
      },
      "source": [
        "# Loss Function"
      ]
    },
    {
      "cell_type": "markdown",
      "metadata": {
        "id": "kV1GGzdk2TCe"
      },
      "source": [
        "Create the Loss Function we are going to use. We are using CrossEntropy Loss. It applies softmax along the columns. Then for each true label y, we get the activtion of our model in that index, apply negative log and return the mean of all the log likelihoods."
      ]
    },
    {
      "cell_type": "code",
      "metadata": {
        "id": "6g8NXG0BRRcO"
      },
      "source": [
        "def cross_entropy_loss(preds, y):\n",
        "  # apply softmax\n",
        "  preds = torch.softmax(preds, axis=1)\n",
        "\n",
        "  # get confidences for the correct class\n",
        "  idx = len(preds)\n",
        "  confidences = preds[range(idx), y]\n",
        "  \n",
        "  # calculate negative log likelihood and return it\n",
        "  log_ll =  -torch.log(confidences)\n",
        "  return log_ll.mean()"
      ],
      "execution_count": 14,
      "outputs": []
    },
    {
      "cell_type": "markdown",
      "metadata": {
        "id": "ouDO__WZYXwP"
      },
      "source": [
        "# Testing with a Small Batch of Data First"
      ]
    },
    {
      "cell_type": "markdown",
      "metadata": {
        "id": "v8Dg1JIP3RvR"
      },
      "source": [
        "First test with a small batch of 5."
      ]
    },
    {
      "cell_type": "code",
      "metadata": {
        "id": "PYt_OdEtYUSI"
      },
      "source": [
        "batch = train_dset[:5]"
      ],
      "execution_count": 15,
      "outputs": []
    },
    {
      "cell_type": "code",
      "metadata": {
        "id": "A4thd82XaC8G"
      },
      "source": [
        "data = [list(t) for t in zip(*batch)]\n",
        "x, y = data[0], data[1]\n",
        "\n",
        "xb = torch.stack(x)\n",
        "yb = torch.stack(y)"
      ],
      "execution_count": 16,
      "outputs": []
    },
    {
      "cell_type": "code",
      "metadata": {
        "colab": {
          "base_uri": "https://localhost:8080/"
        },
        "id": "RhGvsDYhAxW3",
        "outputId": "e160c2a1-f589-4c45-8f71-0b83f87195da"
      },
      "source": [
        "xb.shape, yb.shape"
      ],
      "execution_count": 17,
      "outputs": [
        {
          "output_type": "execute_result",
          "data": {
            "text/plain": [
              "(torch.Size([5, 784]), torch.Size([5]))"
            ]
          },
          "metadata": {
            "tags": []
          },
          "execution_count": 17
        }
      ]
    },
    {
      "cell_type": "markdown",
      "metadata": {
        "id": "JsaRnltPTQrR"
      },
      "source": [
        "## Simple Model"
      ]
    },
    {
      "cell_type": "markdown",
      "metadata": {
        "id": "qyFHLOHK3WZx"
      },
      "source": [
        "Create a Simple Model and a way to initialize parameters:"
      ]
    },
    {
      "cell_type": "code",
      "metadata": {
        "id": "ncAgzXsXTTIk"
      },
      "source": [
        "def init_params(size):\n",
        "  # we initialize them randomly\n",
        "  return (torch.randn(size)).requires_grad_()\n",
        "\n",
        "def linear_model(xb):\n",
        "  return xb@weights + biases"
      ],
      "execution_count": 18,
      "outputs": []
    },
    {
      "cell_type": "code",
      "metadata": {
        "id": "W4CXfDKoBe-7"
      },
      "source": [
        "weights = init_params((28*28, 10))\n",
        "biases = init_params(10)"
      ],
      "execution_count": 19,
      "outputs": []
    },
    {
      "cell_type": "markdown",
      "metadata": {
        "id": "-3wODWXC3aaV"
      },
      "source": [
        "Get the prediction using our simple model"
      ]
    },
    {
      "cell_type": "code",
      "metadata": {
        "colab": {
          "base_uri": "https://localhost:8080/"
        },
        "id": "SFul3ftGRvHu",
        "outputId": "961889e5-bcb2-4726-a263-d18d513f2960"
      },
      "source": [
        "preds = linear_model(xb)\n",
        "preds"
      ],
      "execution_count": 20,
      "outputs": [
        {
          "output_type": "execute_result",
          "data": {
            "text/plain": [
              "tensor([[-15.5316, -10.6311,  17.8504,  -2.2966,  -9.2023, -13.0675,   7.2907,\n",
              "           3.0064,  -5.4461, -13.5227],\n",
              "        [-20.1133, -11.3326,   1.8361,  -0.9149,  -6.0363,  -0.9184,   8.4763,\n",
              "          16.4081,   1.5354,  -0.6634],\n",
              "        [-11.0580,  -4.9101,   6.2878,  12.4676,  -5.4848,   7.6617,  13.7218,\n",
              "           6.9204,   2.6186,  -8.8912],\n",
              "        [  5.1292,  -6.9744,  17.0552,   1.3707,   8.9145,  -3.7647,  -2.5044,\n",
              "          -1.1342,  21.8447,   6.5467],\n",
              "        [-26.1427,   1.8682,  14.8014,   4.7678,  -3.2687,   9.4919,   4.0314,\n",
              "           1.9956,  -2.7949,  -7.6126]], grad_fn=<AddBackward0>)"
            ]
          },
          "metadata": {
            "tags": []
          },
          "execution_count": 20
        }
      ]
    },
    {
      "cell_type": "markdown",
      "metadata": {
        "id": "lm4-erTa3dJj"
      },
      "source": [
        "Calculate the Loss:"
      ]
    },
    {
      "cell_type": "code",
      "metadata": {
        "colab": {
          "base_uri": "https://localhost:8080/"
        },
        "id": "kKWDpW0RR2T4",
        "outputId": "2c573d2b-ba1b-42d6-876c-26c8ce637dec"
      },
      "source": [
        "loss = cross_entropy_loss(preds, yb)\n",
        "loss"
      ],
      "execution_count": 21,
      "outputs": [
        {
          "output_type": "execute_result",
          "data": {
            "text/plain": [
              "tensor(20.5296, grad_fn=<MeanBackward0>)"
            ]
          },
          "metadata": {
            "tags": []
          },
          "execution_count": 21
        }
      ]
    },
    {
      "cell_type": "markdown",
      "metadata": {
        "id": "I2aaNNaP3fdG"
      },
      "source": [
        "Let's put that in a function:"
      ]
    },
    {
      "cell_type": "code",
      "metadata": {
        "id": "LKKNYCIDSAQX"
      },
      "source": [
        "def calc_grad(xb, yb, model):\n",
        "  preds = model(xb)\n",
        "  loss = cross_entropy_loss(preds, yb)\n",
        "  loss.backward()"
      ],
      "execution_count": 22,
      "outputs": []
    },
    {
      "cell_type": "markdown",
      "metadata": {
        "id": "DfjLdD3z3wtK"
      },
      "source": [
        "Get the mean weights and biases gradients (because we can't display all of them)"
      ]
    },
    {
      "cell_type": "code",
      "metadata": {
        "colab": {
          "base_uri": "https://localhost:8080/"
        },
        "id": "aPDcKbUBS1KC",
        "outputId": "f7083f9d-bf53-48fe-a9b6-f14fa3a1039a"
      },
      "source": [
        "calc_grad(xb, yb, linear_model)\n",
        "weights.grad.mean(), biases.grad.mean()"
      ],
      "execution_count": 23,
      "outputs": [
        {
          "output_type": "execute_result",
          "data": {
            "text/plain": [
              "(tensor(7.2985e-10), tensor(1.4901e-09))"
            ]
          },
          "metadata": {
            "tags": []
          },
          "execution_count": 23
        }
      ]
    },
    {
      "cell_type": "markdown",
      "metadata": {
        "id": "cPiBjL9B33UZ"
      },
      "source": [
        "Create a function to train for one epoch with our training data"
      ]
    },
    {
      "cell_type": "code",
      "metadata": {
        "id": "nSvZF8GrS7XB"
      },
      "source": [
        "def train_epoch(model, lr, params):\n",
        "  for xb, yb in train_dl:\n",
        "    calc_grad(xb, yb, model)\n",
        "    for p in params:\n",
        "      p.data -= p.grad*lr\n",
        "      p.grad.zero_()"
      ],
      "execution_count": 24,
      "outputs": []
    },
    {
      "cell_type": "markdown",
      "metadata": {
        "id": "kw7ifYtlUjUM"
      },
      "source": [
        "## Accuracy Function"
      ]
    },
    {
      "cell_type": "markdown",
      "metadata": {
        "id": "8iE1l-Ty3-sk"
      },
      "source": [
        "Define the accuracy function we are going to use. It gets the index of the largest activation of the predictions assumes thats what out model predicts, and compares them with the true labels and get the mean."
      ]
    },
    {
      "cell_type": "code",
      "metadata": {
        "id": "4H6ueGM9UmRY"
      },
      "source": [
        "def batch_accuracy(preds, yb):\n",
        "  prediction = torch.argmax(preds, axis=1)\n",
        "  correct = (prediction == yb)\n",
        "  return correct.float().mean()"
      ],
      "execution_count": 25,
      "outputs": []
    },
    {
      "cell_type": "markdown",
      "metadata": {
        "id": "nKWnPfwT4N2Z"
      },
      "source": [
        "Current accuracy of our simple model on the small batch:"
      ]
    },
    {
      "cell_type": "code",
      "metadata": {
        "colab": {
          "base_uri": "https://localhost:8080/"
        },
        "id": "D3g3PjD6UpfZ",
        "outputId": "020f00af-49db-4132-d2e9-2bd756ad996f"
      },
      "source": [
        "batch_accuracy(linear_model(xb), yb)"
      ],
      "execution_count": 26,
      "outputs": [
        {
          "output_type": "execute_result",
          "data": {
            "text/plain": [
              "tensor(0.)"
            ]
          },
          "metadata": {
            "tags": []
          },
          "execution_count": 26
        }
      ]
    },
    {
      "cell_type": "markdown",
      "metadata": {
        "id": "Rqi2-g6W4SOx"
      },
      "source": [
        "Create a function for validating an epoch. Remember we get the metrics on the validation dataset."
      ]
    },
    {
      "cell_type": "code",
      "metadata": {
        "id": "-0AiSr9jUxdP"
      },
      "source": [
        "def validate_epoch(model):\n",
        "  accs = [batch_accuracy(model(xb), yb) for xb, yb in valid_dl]\n",
        "  return round(torch.stack(accs).mean().item(), 4)"
      ],
      "execution_count": 27,
      "outputs": []
    },
    {
      "cell_type": "markdown",
      "metadata": {
        "id": "ACmdzqw14cTF"
      },
      "source": [
        "Current accuracy on validation set:"
      ]
    },
    {
      "cell_type": "code",
      "metadata": {
        "colab": {
          "base_uri": "https://localhost:8080/"
        },
        "id": "Cvcc2Rs3U2yc",
        "outputId": "d04e133b-8ced-4ff2-a9f0-db64efb7cdd2"
      },
      "source": [
        "validate_epoch(linear_model)"
      ],
      "execution_count": 28,
      "outputs": [
        {
          "output_type": "execute_result",
          "data": {
            "text/plain": [
              "0.1119"
            ]
          },
          "metadata": {
            "tags": []
          },
          "execution_count": 28
        }
      ]
    },
    {
      "cell_type": "markdown",
      "metadata": {
        "id": "NzvTFUPB4fHT"
      },
      "source": [
        "Step the model once:"
      ]
    },
    {
      "cell_type": "code",
      "metadata": {
        "colab": {
          "base_uri": "https://localhost:8080/"
        },
        "id": "LG8rR9ezU-cI",
        "outputId": "e0cfa94a-972a-45f0-8c38-dcb07790fb83"
      },
      "source": [
        "lr = 1\n",
        "params = weights, biases\n",
        "train_epoch(linear_model, lr, params)\n",
        "validate_epoch(linear_model)"
      ],
      "execution_count": 29,
      "outputs": [
        {
          "output_type": "execute_result",
          "data": {
            "text/plain": [
              "0.837"
            ]
          },
          "metadata": {
            "tags": []
          },
          "execution_count": 29
        }
      ]
    },
    {
      "cell_type": "markdown",
      "metadata": {
        "id": "m9ZZNfJH4h1i"
      },
      "source": [
        "Loop for a number of epochs and train and validate:"
      ]
    },
    {
      "cell_type": "code",
      "metadata": {
        "colab": {
          "base_uri": "https://localhost:8080/"
        },
        "id": "jRJBh7LBV49l",
        "outputId": "4b0b03b5-fdd3-4b8b-e8d5-3c9680917a13"
      },
      "source": [
        "for i in range(20):\n",
        "  train_epoch(linear_model, lr, params)\n",
        "  print(validate_epoch(linear_model), end=' ')"
      ],
      "execution_count": 30,
      "outputs": [
        {
          "output_type": "stream",
          "text": [
            "0.8649 0.8752 0.8786 0.8848 0.8882 0.8945 0.89 0.896 0.9003 0.9 0.8939 0.9029 0.9014 0.8925 0.9055 0.9064 0.9055 0.9039 0.9083 0.9074 "
          ],
          "name": "stdout"
        }
      ]
    },
    {
      "cell_type": "markdown",
      "metadata": {
        "id": "BlbtAsbPWKQs"
      },
      "source": [
        "# Optimizer Class"
      ]
    },
    {
      "cell_type": "markdown",
      "metadata": {
        "id": "4eLT55474mDr"
      },
      "source": [
        "Create an optimzer class. We are going to use Basic SGD."
      ]
    },
    {
      "cell_type": "code",
      "metadata": {
        "id": "YIUKLnv_-h1j"
      },
      "source": [
        "class optimizer_SGD():\n",
        "  def __init__(self,params,lr): \n",
        "    self.params = list(params)\n",
        "    self.lr = lr\n",
        "  \n",
        "  def step(self, *args, **kwargs):\n",
        "    for p in self.params:\n",
        "      p.data -= p.grad.data * self.lr\n",
        "    \n",
        "  def zero_grad(self, *args, **kwargs):\n",
        "    for p in self.params:\n",
        "      p.grad = None"
      ],
      "execution_count": 31,
      "outputs": []
    },
    {
      "cell_type": "markdown",
      "metadata": {
        "id": "EE_en9pR4xw4"
      },
      "source": [
        "We use the Linear model provided by PyTorch:"
      ]
    },
    {
      "cell_type": "code",
      "metadata": {
        "id": "OiYpbPSxJRbI"
      },
      "source": [
        "model = nn.Linear(28*28, 10)"
      ],
      "execution_count": 32,
      "outputs": []
    },
    {
      "cell_type": "code",
      "metadata": {
        "colab": {
          "base_uri": "https://localhost:8080/"
        },
        "id": "MJ9_-wvoJRYg",
        "outputId": "de4c0078-fab1-4eae-fd8b-69d4b78d7335"
      },
      "source": [
        "w, b = model.parameters()\n",
        "w.shape, b.shape"
      ],
      "execution_count": 33,
      "outputs": [
        {
          "output_type": "execute_result",
          "data": {
            "text/plain": [
              "(torch.Size([10, 784]), torch.Size([10]))"
            ]
          },
          "metadata": {
            "tags": []
          },
          "execution_count": 33
        }
      ]
    },
    {
      "cell_type": "markdown",
      "metadata": {
        "id": "PZcWOVg65F4g"
      },
      "source": [
        "Function to train an epoch:"
      ]
    },
    {
      "cell_type": "code",
      "metadata": {
        "id": "EpNiYARPJRV1"
      },
      "source": [
        "def train_epoch(model):\n",
        "    for xb,yb in train_dl:\n",
        "        calc_grad(xb, yb, model)\n",
        "        optimizer.step()\n",
        "        optimizer.zero_grad()"
      ],
      "execution_count": 34,
      "outputs": []
    },
    {
      "cell_type": "markdown",
      "metadata": {
        "id": "MfUCTNPJ5Jen"
      },
      "source": [
        "Function of training the whole model:"
      ]
    },
    {
      "cell_type": "code",
      "metadata": {
        "id": "nbZUxIpxJRTB"
      },
      "source": [
        "def train_model(model, epochs):\n",
        "  for i in range(epochs):\n",
        "    train_epoch(model)\n",
        "    print(validate_epoch(model), end=' ')"
      ],
      "execution_count": 35,
      "outputs": []
    },
    {
      "cell_type": "markdown",
      "metadata": {
        "id": "qJVXwJUt5MN6"
      },
      "source": [
        "Initialize the optimizer"
      ]
    },
    {
      "cell_type": "code",
      "metadata": {
        "id": "sksuT7HFJRQK"
      },
      "source": [
        "optimizer = optimizer_SGD(model.parameters(), lr)"
      ],
      "execution_count": 36,
      "outputs": []
    },
    {
      "cell_type": "markdown",
      "metadata": {
        "id": "fw4ueW2Q5OR9"
      },
      "source": [
        "Train the model for 20 epochs."
      ]
    },
    {
      "cell_type": "code",
      "metadata": {
        "colab": {
          "base_uri": "https://localhost:8080/"
        },
        "id": "qJ_3P2ByWZy3",
        "outputId": "b767ba6c-fea5-41cb-df4d-360701ec8b78"
      },
      "source": [
        "train_model(model, 20)"
      ],
      "execution_count": 37,
      "outputs": [
        {
          "output_type": "stream",
          "text": [
            "0.9008 0.9079 0.9147 0.9145 0.9127 0.9128 0.9205 0.9203 0.9214 0.921 0.9154 0.9228 0.9219 0.9192 0.9208 0.9208 0.9125 0.9194 0.9161 0.918 "
          ],
          "name": "stdout"
        }
      ]
    },
    {
      "cell_type": "markdown",
      "metadata": {
        "id": "8KIN5zda5Rjh"
      },
      "source": [
        "Our simple linear model is training! Next, let's make a Neural Network"
      ]
    },
    {
      "cell_type": "markdown",
      "metadata": {
        "id": "WsbNYnQ_W9pd"
      },
      "source": [
        "# Adding Non-Linearity"
      ]
    },
    {
      "cell_type": "markdown",
      "metadata": {
        "id": "ZV0Km_yq5YAQ"
      },
      "source": [
        "We create a simple neural network by adding a non-linearity (ReLU) between the Dense/Linear layers"
      ]
    },
    {
      "cell_type": "code",
      "metadata": {
        "id": "1KzJQ7WpWZwz"
      },
      "source": [
        "model = nn.Sequential(\n",
        "    nn.Linear(28*28, 60),\n",
        "    nn.ReLU(),\n",
        "    nn.Linear(60, 10)\n",
        ")"
      ],
      "execution_count": 38,
      "outputs": []
    },
    {
      "cell_type": "code",
      "metadata": {
        "id": "FRscUrAVWZt5"
      },
      "source": [
        "optimizer = optimizer_SGD(model.parameters(), lr)"
      ],
      "execution_count": 39,
      "outputs": []
    },
    {
      "cell_type": "code",
      "metadata": {
        "colab": {
          "base_uri": "https://localhost:8080/"
        },
        "id": "fHZ9-sVvWZrJ",
        "outputId": "b1657fa7-b92f-4f3b-d590-1d03444c5b9d"
      },
      "source": [
        "train_model(model, 20)"
      ],
      "execution_count": 40,
      "outputs": [
        {
          "output_type": "stream",
          "text": [
            "0.9293 0.9463 0.9513 0.9573 0.9575 0.9627 0.9631 0.9652 0.9631 0.9664 0.9666 0.9618 0.9679 0.9648 0.9697 0.9691 0.968 0.9482 0.9704 0.971 "
          ],
          "name": "stdout"
        }
      ]
    },
    {
      "cell_type": "markdown",
      "metadata": {
        "id": "jnkzQjUz5r8G"
      },
      "source": [
        "We got a higher accuracy than with just a linear model."
      ]
    },
    {
      "cell_type": "markdown",
      "metadata": {
        "id": "Y5YXGP8rXc8m"
      },
      "source": [
        "# Custom Learner Class"
      ]
    },
    {
      "cell_type": "markdown",
      "metadata": {
        "id": "-vIbsTB_5yaH"
      },
      "source": [
        "Let's create a Custom Learner class like the one provided by fastai.\n",
        "\n",
        "The `Custom_Learner` brings all the following into one class:\n",
        "\n",
        "\n",
        "*   DataLoaders\n",
        "*   The Model\n",
        "*   The Loss Function to use\n",
        "*   The Optimizer\n",
        "*   Metrics you want printed out (currently only batch accuracy works)!\n",
        "\n",
        "It then provides a fit method to train your model for the number of epochs you want. It prints out a bunch of important stuff that give you information about how your model is training.\n",
        "\n",
        "It provides two methods `plot_loss` and `plot_accuracy` to plot loss and accuracy respectively\n",
        "\n",
        "\n"
      ]
    },
    {
      "cell_type": "code",
      "metadata": {
        "id": "O813CB2eP5Nw"
      },
      "source": [
        "class Custom_Learner():\n",
        "  \n",
        "  # initialize the class\n",
        "  def __init__(self, dls=None, model=None, loss_func=None, opt=None, metrics=None):\n",
        "    self.train_dl, self.valid_dl = dls\n",
        "    self.model = model\n",
        "    self.loss_func = loss_func\n",
        "    self.opt = opt\n",
        "    self.metrics = metrics\n",
        "\n",
        "    # for printing purposes\n",
        "    self._epoch = 0.\n",
        "    self._tloss = 0.\n",
        "    self._vloss = 0.\n",
        "    self._met = 0.\n",
        "\n",
        "    # for plotting purposes\n",
        "    self._epochs = []\n",
        "    self._tlosses = []\n",
        "    self._vlosses = []\n",
        "    self._accuracies = []\n",
        "\n",
        "  # the fit method is used to train the model\n",
        "  def fit(self, epochs=None, lr=None):\n",
        "    self.lr = lr\n",
        "    self.train_model(self.model, epochs)\n",
        "  \n",
        "  # train epoch\n",
        "  def train_epoch(self, model):\n",
        "    for xb, yb in self.train_dl:\n",
        "      predictions = model(xb)\n",
        "      loss = self.loss_func(predictions, yb)\n",
        "      self._tloss = round(loss.item(), 4)\n",
        "      loss.backward()\n",
        "      self.opt.step()\n",
        "      self.opt.zero_grad()\n",
        "    \n",
        "    for xb, yb in self.valid_dl:\n",
        "      predictions = model(xb)\n",
        "      loss = self.loss_func(predictions, yb)\n",
        "      self._vloss = round(loss.item(), 4)\n",
        "  \n",
        "  # validate epoch\n",
        "  def validate_epoch(self, model):\n",
        "    accs = [self.metrics(model(xb), yb) for xb, yb in self.valid_dl]\n",
        "    self._met = round(torch.stack(accs).mean().item(), 4)\n",
        "  \n",
        "  # print output as the model is training\n",
        "  def show_output(self):\n",
        "    print(f'epoch {self._epoch}: ' +\n",
        "          f'train_loss: {self._tloss:.4f}, ' +\n",
        "          f'valid_loss: {self._vloss:.4f}, ' +\n",
        "          f'accuracy: {self._met:.4f}')\n",
        "    \n",
        "  # training the model\n",
        "  def train_model(self, model, epochs):\n",
        "    self.opt = self.opt(self.model.parameters(), self.lr)\n",
        "    for i in range(epochs):\n",
        "      self._epoch = i\n",
        "      # train the model\n",
        "      self.train_epoch(self.model)\n",
        "      # validate the model and print out metrics\n",
        "      self.validate_epoch(self.model)\n",
        "      self.update_accuracies(self._met)\n",
        "      self.update_tlosses(self._tloss)\n",
        "      self.update_vlosses(self._vloss)\n",
        "      self.update_epochs(self._epoch+1)\n",
        "      self.show_output()\n",
        "  \n",
        "  # update accuracies\n",
        "  def update_accuracies(self, accuracy):\n",
        "    self._accuracies.append(accuracy)\n",
        "  \n",
        "  # update losses\n",
        "  def update_tlosses(self, loss):\n",
        "    self._tlosses.append(loss)\n",
        "  \n",
        "  # update losses\n",
        "  def update_vlosses(self, loss):\n",
        "    self._vlosses.append(loss)\n",
        "  \n",
        "  # update epochs\n",
        "  def update_epochs(self, epoch):\n",
        "    self._epochs.append(epoch)\n",
        "\n",
        "  # plot losses\n",
        "  def plot_loss(self):\n",
        "    fig, ax = plt.subplots(figsize=(6, 6))\n",
        "    ax.plot(self._epochs, self._tlosses, label='Training Loss')\n",
        "    ax.plot(self._epochs, self._vlosses, color='Orange', label='Validation Loss')\n",
        "    ax.set_title('Loss in Training and Validation')\n",
        "    ax.set_ylabel('loss')\n",
        "    ax.set_xlabel('epochs')\n",
        "    ax.legend()\n",
        "\n",
        "  # plot accuracies\n",
        "  def plot_accuracy(self):\n",
        "    fig, ax = plt.subplots(figsize=(6, 6))\n",
        "    ax.plot(self._epochs, self._accuracies, label='Valiadtion Accuracy')\n",
        "    ax.set_title('Accuracy in Validation')\n",
        "    ax.set_ylabel('accuracy')\n",
        "    ax.set_xlabel('epochs')\n",
        "    ax.legend()\n"
      ],
      "execution_count": 41,
      "outputs": []
    },
    {
      "cell_type": "markdown",
      "metadata": {
        "id": "EblBMmBZ7Fkz"
      },
      "source": [
        "Initialize the learner and train a linear model for 10 epochs:"
      ]
    },
    {
      "cell_type": "code",
      "metadata": {
        "id": "7eYTE2fmQnhu"
      },
      "source": [
        "learn = Custom_Learner(dls=dls, model=nn.Linear(28*28,10), loss_func=cross_entropy_loss, opt=optimizer_SGD, metrics=batch_accuracy)"
      ],
      "execution_count": 42,
      "outputs": []
    },
    {
      "cell_type": "code",
      "metadata": {
        "colab": {
          "base_uri": "https://localhost:8080/"
        },
        "id": "d9hjgwEDQ7xP",
        "outputId": "8d005283-a409-47dc-b39c-a260929c7ddc"
      },
      "source": [
        "learn.fit(10, lr=1)"
      ],
      "execution_count": 43,
      "outputs": [
        {
          "output_type": "stream",
          "text": [
            "epoch 0: train_loss: 0.3706, valid_loss: 0.2796, accuracy: 0.9109\n",
            "epoch 1: train_loss: 0.2508, valid_loss: 0.2883, accuracy: 0.9076\n",
            "epoch 2: train_loss: 0.4484, valid_loss: 0.2582, accuracy: 0.9165\n",
            "epoch 3: train_loss: 0.3537, valid_loss: 0.2483, accuracy: 0.9164\n",
            "epoch 4: train_loss: 0.2857, valid_loss: 0.2546, accuracy: 0.9192\n",
            "epoch 5: train_loss: 0.2045, valid_loss: 0.2559, accuracy: 0.9148\n",
            "epoch 6: train_loss: 0.2076, valid_loss: 0.2447, accuracy: 0.9158\n",
            "epoch 7: train_loss: 0.1970, valid_loss: 0.2422, accuracy: 0.9195\n",
            "epoch 8: train_loss: 0.1715, valid_loss: 0.2547, accuracy: 0.9160\n",
            "epoch 9: train_loss: 0.2693, valid_loss: 0.2322, accuracy: 0.9160\n"
          ],
          "name": "stdout"
        }
      ]
    },
    {
      "cell_type": "markdown",
      "metadata": {
        "id": "z8NaT-ge7R6F"
      },
      "source": [
        "Create a Neural Network with two layers of 60 neurons and 10 neurons (for the output) respectively. Create a learner using the neural network and train for 40 epochs:"
      ]
    },
    {
      "cell_type": "code",
      "metadata": {
        "id": "D4Ef0DUCQ9Ss"
      },
      "source": [
        "neural_net = nn.Sequential(\n",
        "    nn.Linear(28*28, 60),\n",
        "    nn.ReLU(),\n",
        "    nn.Linear(60, 10)\n",
        ")"
      ],
      "execution_count": 44,
      "outputs": []
    },
    {
      "cell_type": "code",
      "metadata": {
        "id": "PFsr5iY9Y4l7"
      },
      "source": [
        "neural_learn = Custom_Learner(dls=dls, model=neural_net, loss_func=cross_entropy_loss, opt=optimizer_SGD, metrics=batch_accuracy)"
      ],
      "execution_count": 45,
      "outputs": []
    },
    {
      "cell_type": "code",
      "metadata": {
        "colab": {
          "base_uri": "https://localhost:8080/"
        },
        "id": "nEmztIDVY8N8",
        "outputId": "64e1a98a-3c43-4a6a-afd2-02537f871258"
      },
      "source": [
        "neural_learn.fit(40, lr=0.1)"
      ],
      "execution_count": 46,
      "outputs": [
        {
          "output_type": "stream",
          "text": [
            "epoch 0: train_loss: 0.4239, valid_loss: 0.4006, accuracy: 0.8825\n",
            "epoch 1: train_loss: 0.2300, valid_loss: 0.3011, accuracy: 0.9073\n",
            "epoch 2: train_loss: 0.2636, valid_loss: 0.2615, accuracy: 0.9180\n",
            "epoch 3: train_loss: 0.2565, valid_loss: 0.2420, accuracy: 0.9226\n",
            "epoch 4: train_loss: 0.2206, valid_loss: 0.2254, accuracy: 0.9283\n",
            "epoch 5: train_loss: 0.3110, valid_loss: 0.2263, accuracy: 0.9304\n",
            "epoch 6: train_loss: 0.2015, valid_loss: 0.2102, accuracy: 0.9362\n",
            "epoch 7: train_loss: 0.2987, valid_loss: 0.2004, accuracy: 0.9405\n",
            "epoch 8: train_loss: 0.2189, valid_loss: 0.1790, accuracy: 0.9446\n",
            "epoch 9: train_loss: 0.1389, valid_loss: 0.1765, accuracy: 0.9457\n",
            "epoch 10: train_loss: 0.1456, valid_loss: 0.1770, accuracy: 0.9474\n",
            "epoch 11: train_loss: 0.2793, valid_loss: 0.1609, accuracy: 0.9493\n",
            "epoch 12: train_loss: 0.2271, valid_loss: 0.1657, accuracy: 0.9500\n",
            "epoch 13: train_loss: 0.1864, valid_loss: 0.1446, accuracy: 0.9530\n",
            "epoch 14: train_loss: 0.0962, valid_loss: 0.1370, accuracy: 0.9544\n",
            "epoch 15: train_loss: 0.0737, valid_loss: 0.1305, accuracy: 0.9565\n",
            "epoch 16: train_loss: 0.1783, valid_loss: 0.1212, accuracy: 0.9563\n",
            "epoch 17: train_loss: 0.1218, valid_loss: 0.1315, accuracy: 0.9578\n",
            "epoch 18: train_loss: 0.2159, valid_loss: 0.1172, accuracy: 0.9581\n",
            "epoch 19: train_loss: 0.0780, valid_loss: 0.1108, accuracy: 0.9591\n",
            "epoch 20: train_loss: 0.1404, valid_loss: 0.1025, accuracy: 0.9611\n",
            "epoch 21: train_loss: 0.1048, valid_loss: 0.1041, accuracy: 0.9604\n",
            "epoch 22: train_loss: 0.0775, valid_loss: 0.1016, accuracy: 0.9621\n",
            "epoch 23: train_loss: 0.0756, valid_loss: 0.0982, accuracy: 0.9626\n",
            "epoch 24: train_loss: 0.1163, valid_loss: 0.0999, accuracy: 0.9631\n",
            "epoch 25: train_loss: 0.0596, valid_loss: 0.0880, accuracy: 0.9624\n",
            "epoch 26: train_loss: 0.1307, valid_loss: 0.0801, accuracy: 0.9632\n",
            "epoch 27: train_loss: 0.0919, valid_loss: 0.0818, accuracy: 0.9642\n",
            "epoch 28: train_loss: 0.0799, valid_loss: 0.0822, accuracy: 0.9647\n",
            "epoch 29: train_loss: 0.0775, valid_loss: 0.0825, accuracy: 0.9650\n",
            "epoch 30: train_loss: 0.0635, valid_loss: 0.0810, accuracy: 0.9656\n",
            "epoch 31: train_loss: 0.0568, valid_loss: 0.0782, accuracy: 0.9659\n",
            "epoch 32: train_loss: 0.1630, valid_loss: 0.0765, accuracy: 0.9662\n",
            "epoch 33: train_loss: 0.1115, valid_loss: 0.0725, accuracy: 0.9660\n",
            "epoch 34: train_loss: 0.0425, valid_loss: 0.0747, accuracy: 0.9668\n",
            "epoch 35: train_loss: 0.0451, valid_loss: 0.0702, accuracy: 0.9669\n",
            "epoch 36: train_loss: 0.1723, valid_loss: 0.0756, accuracy: 0.9665\n",
            "epoch 37: train_loss: 0.0437, valid_loss: 0.0772, accuracy: 0.9671\n",
            "epoch 38: train_loss: 0.0750, valid_loss: 0.0665, accuracy: 0.9674\n",
            "epoch 39: train_loss: 0.1330, valid_loss: 0.0676, accuracy: 0.9675\n"
          ],
          "name": "stdout"
        }
      ]
    },
    {
      "cell_type": "code",
      "metadata": {
        "colab": {
          "base_uri": "https://localhost:8080/",
          "height": 404
        },
        "id": "2l5zPQnk7nrE",
        "outputId": "575ac1e2-966d-4264-c73c-ab42f7aa5cf6"
      },
      "source": [
        "neural_learn.plot_loss()"
      ],
      "execution_count": 47,
      "outputs": [
        {
          "output_type": "display_data",
          "data": {
            "image/png": "[encoded data removed]",
            "text/plain": [
              "<Figure size 432x432 with 1 Axes>"
            ]
          },
          "metadata": {
            "tags": [],
            "needs_background": "light"
          }
        }
      ]
    },
    {
      "cell_type": "code",
      "metadata": {
        "colab": {
          "base_uri": "https://localhost:8080/",
          "height": 404
        },
        "id": "fUQPrnl37p9J",
        "outputId": "23d63906-9245-4f76-8b8e-5d8424d79d90"
      },
      "source": [
        "neural_learn.plot_accuracy()"
      ],
      "execution_count": 48,
      "outputs": [
        {
          "output_type": "display_data",
          "data": {
            "image/png": "[encoded data removed]",
            "text/plain": [
              "<Figure size 432x432 with 1 Axes>"
            ]
          },
          "metadata": {
            "tags": [],
            "needs_background": "light"
          }
        }
      ]
    },
    {
      "cell_type": "markdown",
      "metadata": {
        "id": "rwfERD4mZ7lp"
      },
      "source": [
        "# Using Classes provided by fastai and PyTorch"
      ]
    },
    {
      "cell_type": "markdown",
      "metadata": {
        "id": "D5b_xJJO7ut2"
      },
      "source": [
        "Do the same with classes provided by fastai and PyTorch:"
      ]
    },
    {
      "cell_type": "code",
      "metadata": {
        "id": "S8M3nfsHZFj5"
      },
      "source": [
        "neural_net = nn.Sequential(\n",
        "    nn.Linear(28*28, 60),\n",
        "    nn.ReLU(),\n",
        "    nn.Linear(60, 10)\n",
        ")"
      ],
      "execution_count": 49,
      "outputs": []
    },
    {
      "cell_type": "code",
      "metadata": {
        "colab": {
          "base_uri": "https://localhost:8080/",
          "height": 1000
        },
        "id": "6rXdCPr7aMPC",
        "outputId": "3f2a65f3-98a2-4ea2-a213-acdfde2bd70d"
      },
      "source": [
        "learn = Learner(dls=dls, model=neural_net, loss_func=cross_entropy_loss, opt_func=SGD, metrics=batch_accuracy)\n",
        "\n",
        "learn.fit(40, 0.1)"
      ],
      "execution_count": 50,
      "outputs": [
        {
          "output_type": "display_data",
          "data": {
            "text/html": [
              "<table border=\"1\" class=\"dataframe\">\n",
              "  <thead>\n",
              "    <tr style=\"text-align: left;\">\n",
              "      <th>epoch</th>\n",
              "      <th>train_loss</th>\n",
              "      <th>valid_loss</th>\n",
              "      <th>batch_accuracy</th>\n",
              "      <th>time</th>\n",
              "    </tr>\n",
              "  </thead>\n",
              "  <tbody>\n",
              "    <tr>\n",
              "      <td>0</td>\n",
              "      <td>0.561933</td>\n",
              "      <td>0.422098</td>\n",
              "      <td>0.887500</td>\n",
              "      <td>00:01</td>\n",
              "    </tr>\n",
              "    <tr>\n",
              "      <td>1</td>\n",
              "      <td>0.372078</td>\n",
              "      <td>0.346315</td>\n",
              "      <td>0.897250</td>\n",
              "      <td>00:01</td>\n",
              "    </tr>\n",
              "    <tr>\n",
              "      <td>2</td>\n",
              "      <td>0.324683</td>\n",
              "      <td>0.306344</td>\n",
              "      <td>0.912167</td>\n",
              "      <td>00:01</td>\n",
              "    </tr>\n",
              "    <tr>\n",
              "      <td>3</td>\n",
              "      <td>0.297180</td>\n",
              "      <td>0.274739</td>\n",
              "      <td>0.922167</td>\n",
              "      <td>00:01</td>\n",
              "    </tr>\n",
              "    <tr>\n",
              "      <td>4</td>\n",
              "      <td>0.266952</td>\n",
              "      <td>0.261741</td>\n",
              "      <td>0.926000</td>\n",
              "      <td>00:01</td>\n",
              "    </tr>\n",
              "    <tr>\n",
              "      <td>5</td>\n",
              "      <td>0.252166</td>\n",
              "      <td>0.247402</td>\n",
              "      <td>0.930417</td>\n",
              "      <td>00:01</td>\n",
              "    </tr>\n",
              "    <tr>\n",
              "      <td>6</td>\n",
              "      <td>0.240814</td>\n",
              "      <td>0.228739</td>\n",
              "      <td>0.936667</td>\n",
              "      <td>00:01</td>\n",
              "    </tr>\n",
              "    <tr>\n",
              "      <td>7</td>\n",
              "      <td>0.221981</td>\n",
              "      <td>0.217711</td>\n",
              "      <td>0.940000</td>\n",
              "      <td>00:01</td>\n",
              "    </tr>\n",
              "    <tr>\n",
              "      <td>8</td>\n",
              "      <td>0.212957</td>\n",
              "      <td>0.211853</td>\n",
              "      <td>0.938500</td>\n",
              "      <td>00:01</td>\n",
              "    </tr>\n",
              "    <tr>\n",
              "      <td>9</td>\n",
              "      <td>0.203334</td>\n",
              "      <td>0.201231</td>\n",
              "      <td>0.944583</td>\n",
              "      <td>00:01</td>\n",
              "    </tr>\n",
              "    <tr>\n",
              "      <td>10</td>\n",
              "      <td>0.194702</td>\n",
              "      <td>0.192514</td>\n",
              "      <td>0.947167</td>\n",
              "      <td>00:01</td>\n",
              "    </tr>\n",
              "    <tr>\n",
              "      <td>11</td>\n",
              "      <td>0.184258</td>\n",
              "      <td>0.183871</td>\n",
              "      <td>0.950500</td>\n",
              "      <td>00:01</td>\n",
              "    </tr>\n",
              "    <tr>\n",
              "      <td>12</td>\n",
              "      <td>0.171651</td>\n",
              "      <td>0.179060</td>\n",
              "      <td>0.951750</td>\n",
              "      <td>00:01</td>\n",
              "    </tr>\n",
              "    <tr>\n",
              "      <td>13</td>\n",
              "      <td>0.175308</td>\n",
              "      <td>0.174856</td>\n",
              "      <td>0.951583</td>\n",
              "      <td>00:01</td>\n",
              "    </tr>\n",
              "    <tr>\n",
              "      <td>14</td>\n",
              "      <td>0.164533</td>\n",
              "      <td>0.169239</td>\n",
              "      <td>0.952083</td>\n",
              "      <td>00:01</td>\n",
              "    </tr>\n",
              "    <tr>\n",
              "      <td>15</td>\n",
              "      <td>0.156000</td>\n",
              "      <td>0.164515</td>\n",
              "      <td>0.953750</td>\n",
              "      <td>00:01</td>\n",
              "    </tr>\n",
              "    <tr>\n",
              "      <td>16</td>\n",
              "      <td>0.153228</td>\n",
              "      <td>0.158312</td>\n",
              "      <td>0.956667</td>\n",
              "      <td>00:01</td>\n",
              "    </tr>\n",
              "    <tr>\n",
              "      <td>17</td>\n",
              "      <td>0.143446</td>\n",
              "      <td>0.155144</td>\n",
              "      <td>0.956500</td>\n",
              "      <td>00:01</td>\n",
              "    </tr>\n",
              "    <tr>\n",
              "      <td>18</td>\n",
              "      <td>0.142490</td>\n",
              "      <td>0.150732</td>\n",
              "      <td>0.958417</td>\n",
              "      <td>00:01</td>\n",
              "    </tr>\n",
              "    <tr>\n",
              "      <td>19</td>\n",
              "      <td>0.135745</td>\n",
              "      <td>0.149337</td>\n",
              "      <td>0.957583</td>\n",
              "      <td>00:01</td>\n",
              "    </tr>\n",
              "    <tr>\n",
              "      <td>20</td>\n",
              "      <td>0.131908</td>\n",
              "      <td>0.147042</td>\n",
              "      <td>0.960333</td>\n",
              "      <td>00:01</td>\n",
              "    </tr>\n",
              "    <tr>\n",
              "      <td>21</td>\n",
              "      <td>0.130116</td>\n",
              "      <td>0.140964</td>\n",
              "      <td>0.960667</td>\n",
              "      <td>00:01</td>\n",
              "    </tr>\n",
              "    <tr>\n",
              "      <td>22</td>\n",
              "      <td>0.122491</td>\n",
              "      <td>0.138516</td>\n",
              "      <td>0.961167</td>\n",
              "      <td>00:01</td>\n",
              "    </tr>\n",
              "    <tr>\n",
              "      <td>23</td>\n",
              "      <td>0.117032</td>\n",
              "      <td>0.138087</td>\n",
              "      <td>0.960583</td>\n",
              "      <td>00:01</td>\n",
              "    </tr>\n",
              "    <tr>\n",
              "      <td>24</td>\n",
              "      <td>0.115697</td>\n",
              "      <td>0.133233</td>\n",
              "      <td>0.963417</td>\n",
              "      <td>00:01</td>\n",
              "    </tr>\n",
              "    <tr>\n",
              "      <td>25</td>\n",
              "      <td>0.112865</td>\n",
              "      <td>0.129795</td>\n",
              "      <td>0.963167</td>\n",
              "      <td>00:01</td>\n",
              "    </tr>\n",
              "    <tr>\n",
              "      <td>26</td>\n",
              "      <td>0.110875</td>\n",
              "      <td>0.127024</td>\n",
              "      <td>0.964917</td>\n",
              "      <td>00:01</td>\n",
              "    </tr>\n",
              "    <tr>\n",
              "      <td>27</td>\n",
              "      <td>0.108255</td>\n",
              "      <td>0.126243</td>\n",
              "      <td>0.964083</td>\n",
              "      <td>00:01</td>\n",
              "    </tr>\n",
              "    <tr>\n",
              "      <td>28</td>\n",
              "      <td>0.103762</td>\n",
              "      <td>0.125226</td>\n",
              "      <td>0.963917</td>\n",
              "      <td>00:01</td>\n",
              "    </tr>\n",
              "    <tr>\n",
              "      <td>29</td>\n",
              "      <td>0.102679</td>\n",
              "      <td>0.122389</td>\n",
              "      <td>0.964000</td>\n",
              "      <td>00:01</td>\n",
              "    </tr>\n",
              "    <tr>\n",
              "      <td>30</td>\n",
              "      <td>0.096162</td>\n",
              "      <td>0.121673</td>\n",
              "      <td>0.965417</td>\n",
              "      <td>00:01</td>\n",
              "    </tr>\n",
              "    <tr>\n",
              "      <td>31</td>\n",
              "      <td>0.096827</td>\n",
              "      <td>0.118652</td>\n",
              "      <td>0.966000</td>\n",
              "      <td>00:01</td>\n",
              "    </tr>\n",
              "    <tr>\n",
              "      <td>32</td>\n",
              "      <td>0.091589</td>\n",
              "      <td>0.116972</td>\n",
              "      <td>0.967500</td>\n",
              "      <td>00:01</td>\n",
              "    </tr>\n",
              "    <tr>\n",
              "      <td>33</td>\n",
              "      <td>0.089741</td>\n",
              "      <td>0.117253</td>\n",
              "      <td>0.967667</td>\n",
              "      <td>00:01</td>\n",
              "    </tr>\n",
              "    <tr>\n",
              "      <td>34</td>\n",
              "      <td>0.091060</td>\n",
              "      <td>0.114084</td>\n",
              "      <td>0.967583</td>\n",
              "      <td>00:01</td>\n",
              "    </tr>\n",
              "    <tr>\n",
              "      <td>35</td>\n",
              "      <td>0.086719</td>\n",
              "      <td>0.111615</td>\n",
              "      <td>0.967583</td>\n",
              "      <td>00:01</td>\n",
              "    </tr>\n",
              "    <tr>\n",
              "      <td>36</td>\n",
              "      <td>0.081942</td>\n",
              "      <td>0.111788</td>\n",
              "      <td>0.967000</td>\n",
              "      <td>00:01</td>\n",
              "    </tr>\n",
              "    <tr>\n",
              "      <td>37</td>\n",
              "      <td>0.079943</td>\n",
              "      <td>0.109913</td>\n",
              "      <td>0.968167</td>\n",
              "      <td>00:01</td>\n",
              "    </tr>\n",
              "    <tr>\n",
              "      <td>38</td>\n",
              "      <td>0.076808</td>\n",
              "      <td>0.108686</td>\n",
              "      <td>0.968333</td>\n",
              "      <td>00:01</td>\n",
              "    </tr>\n",
              "    <tr>\n",
              "      <td>39</td>\n",
              "      <td>0.075233</td>\n",
              "      <td>0.108640</td>\n",
              "      <td>0.968333</td>\n",
              "      <td>00:01</td>\n",
              "    </tr>\n",
              "  </tbody>\n",
              "</table>"
            ],
            "text/plain": [
              "<IPython.core.display.HTML object>"
            ]
          },
          "metadata": {
            "tags": []
          }
        }
      ]
    },
    {
      "cell_type": "markdown",
      "metadata": {
        "id": "nAiVHScE729_"
      },
      "source": [
        "It does the exact same thing as our from scratch. This just shows the classes provided by Frameworks are not magic!"
      ]
    },
    {
      "cell_type": "markdown",
      "metadata": {
        "id": "GNr2fEipbTiD"
      },
      "source": [
        "# Test Set"
      ]
    },
    {
      "cell_type": "markdown",
      "metadata": {
        "id": "QMzUvH3f8E9h"
      },
      "source": [
        "Let us work on our test set that we set aside."
      ]
    },
    {
      "cell_type": "code",
      "metadata": {
        "id": "ATyeAIT9ayHg",
        "colab": {
          "base_uri": "https://localhost:8080/"
        },
        "outputId": "1e4dd277-ab90-4e56-fd26-152bbbe5fcfa"
      },
      "source": [
        "len(test_dset)"
      ],
      "execution_count": 51,
      "outputs": [
        {
          "output_type": "execute_result",
          "data": {
            "text/plain": [
              "10000"
            ]
          },
          "metadata": {
            "tags": []
          },
          "execution_count": 51
        }
      ]
    },
    {
      "cell_type": "code",
      "metadata": {
        "id": "omhiLnN8dSdi"
      },
      "source": [
        "testing_data = [list(t) for t in zip(*test_dset)]\n",
        "x, y = testing_data[0], testing_data[1]\n",
        "\n",
        "xtest = torch.stack(x)\n",
        "ytest = torch.stack(y)"
      ],
      "execution_count": 52,
      "outputs": []
    },
    {
      "cell_type": "markdown",
      "metadata": {
        "id": "cpGjIhLH8JY3"
      },
      "source": [
        "Get the model from our `neural_learn` Learner:"
      ]
    },
    {
      "cell_type": "code",
      "metadata": {
        "colab": {
          "base_uri": "https://localhost:8080/"
        },
        "id": "2X3-QX1-t6-u",
        "outputId": "5c29ee07-e331-48bd-a4b5-918723d221bc"
      },
      "source": [
        "neural_learn.model"
      ],
      "execution_count": 53,
      "outputs": [
        {
          "output_type": "execute_result",
          "data": {
            "text/plain": [
              "Sequential(\n",
              "  (0): Linear(in_features=784, out_features=60, bias=True)\n",
              "  (1): ReLU()\n",
              "  (2): Linear(in_features=60, out_features=10, bias=True)\n",
              ")"
            ]
          },
          "metadata": {
            "tags": []
          },
          "execution_count": 53
        }
      ]
    },
    {
      "cell_type": "markdown",
      "metadata": {
        "id": "6Y4m9diM8QpL"
      },
      "source": [
        "Create a function to run inference on the test set:"
      ]
    },
    {
      "cell_type": "code",
      "metadata": {
        "id": "iIdhzw1Nt9s5"
      },
      "source": [
        "def inference(model, x, y):\n",
        "  acts = model(x)\n",
        "  predictions = torch.argmax(acts, axis=1)\n",
        "  correct = (predictions == y)\n",
        "  return (correct.float().mean()).item()"
      ],
      "execution_count": 54,
      "outputs": []
    },
    {
      "cell_type": "code",
      "metadata": {
        "colab": {
          "base_uri": "https://localhost:8080/"
        },
        "id": "Ikqns8syvUOH",
        "outputId": "30a71cf6-600f-41fd-f7e7-ab61018a41e4"
      },
      "source": [
        "test_accuracy = inference(neural_learn.model, xtest, ytest)\n",
        "print(f'Our Final Accuracy on the Test set is: {test_accuracy:.4f}')"
      ],
      "execution_count": 55,
      "outputs": [
        {
          "output_type": "stream",
          "text": [
            "Our Final Accuracy on the Test set is: 0.9703\n"
          ],
          "name": "stdout"
        }
      ]
    },
    {
      "cell_type": "markdown",
      "metadata": {
        "id": "8PciWGmX8Wq4"
      },
      "source": [
        "That's our final accuracy on the test set!"
      ]
    }
  ]
}