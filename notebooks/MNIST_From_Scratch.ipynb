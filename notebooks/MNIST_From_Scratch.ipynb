{
  "nbformat": 4,
  "nbformat_minor": 0,
  "metadata": {
    "colab": {
      "name": "MNIST From Scratch.ipynb",
      "provenance": [],
      "collapsed_sections": [],
      "include_colab_link": true
    },
    "kernelspec": {
      "name": "python3",
      "display_name": "Python 3"
    }
  },
  "cells": [
    {
      "cell_type": "markdown",
      "metadata": {
        "id": "view-in-github",
        "colab_type": "text"
      },
      "source": [
        "<a href=\"https://colab.research.google.com/github/jimmiemunyi/deeplearning-experiments/blob/main/notebooks/MNIST_From_Scratch.ipynb\" target=\"_parent\"><img src=\"https://colab.research.google.com/assets/colab-badge.svg\" alt=\"Open In Colab\"/></a>"
      ]
    },
    {
      "cell_type": "markdown",
      "metadata": {
        "id": "d2QpBykCy6PE"
      },
      "source": [
        "# Introduction"
      ]
    },
    {
      "cell_type": "markdown",
      "metadata": {
        "id": "fercusMEy9xZ"
      },
      "source": [
        "We will be solving the full [MNIST DataSet](http://yann.lecun.com/exdb/mnist/) writing the code from Scratch."
      ]
    },
    {
      "cell_type": "markdown",
      "metadata": {
        "id": "Zq9327Ec8yV_"
      },
      "source": [
        "Import Packages we will use:"
      ]
    },
    {
      "cell_type": "code",
      "metadata": {
        "id": "rXLX3jBgA9HS"
      },
      "source": [
        "from fastbook import *\n",
        "from fastai.vision.all import *\n",
        "\n",
        "matplotlib.rc('image', cmap='Greys')"
      ],
      "execution_count": null,
      "outputs": []
    },
    {
      "cell_type": "markdown",
      "metadata": {
        "id": "xF1rkdHjzhl_"
      },
      "source": [
        "Downloading and extract the data. We will use the dataset hosted on [fastai datasets](https://course.fast.ai/datasets)."
      ]
    },
    {
      "cell_type": "code",
      "metadata": {
        "id": "WSWmu1VFBa2g"
      },
      "source": [
        "path = untar_data(URLs.MNIST)"
      ],
      "execution_count": null,
      "outputs": []
    },
    {
      "cell_type": "code",
      "metadata": {
        "id": "up_iBDtjBeRh"
      },
      "source": [
        "Path.BASE_PATH = path"
      ],
      "execution_count": null,
      "outputs": []
    },
    {
      "cell_type": "markdown",
      "metadata": {
        "id": "xMZgvr0Ez1U4"
      },
      "source": [
        "Check the content of our folders:"
      ]
    },
    {
      "cell_type": "code",
      "metadata": {
        "colab": {
          "base_uri": "https://localhost:8080/"
        },
        "id": "f286bdbqBq04",
        "outputId": "ef914992-d17b-460d-9a44-0038f3e653df"
      },
      "source": [
        "path.ls()"
      ],
      "execution_count": null,
      "outputs": [
        {
          "output_type": "execute_result",
          "data": {
            "text/plain": [
              "(#2) [Path('training'),Path('testing')]"
            ]
          },
          "metadata": {
            "tags": []
          },
          "execution_count": 4
        }
      ]
    },
    {
      "cell_type": "code",
      "metadata": {
        "colab": {
          "base_uri": "https://localhost:8080/"
        },
        "id": "LJv8qVgWBrvU",
        "outputId": "3ce0f22d-c8f2-4143-ddd7-02bc4ab3b7b6"
      },
      "source": [
        "(path/'training').ls().sorted()"
      ],
      "execution_count": null,
      "outputs": [
        {
          "output_type": "execute_result",
          "data": {
            "text/plain": [
              "(#10) [Path('training/0'),Path('training/1'),Path('training/2'),Path('training/3'),Path('training/4'),Path('training/5'),Path('training/6'),Path('training/7'),Path('training/8'),Path('training/9')]"
            ]
          },
          "metadata": {
            "tags": []
          },
          "execution_count": 5
        }
      ]
    },
    {
      "cell_type": "code",
      "metadata": {
        "colab": {
          "base_uri": "https://localhost:8080/"
        },
        "id": "xK772xhiBvZ0",
        "outputId": "a165b8f2-a9e4-4d90-b31d-ebc60ef1c148"
      },
      "source": [
        "(path/'testing').ls().sorted()"
      ],
      "execution_count": null,
      "outputs": [
        {
          "output_type": "execute_result",
          "data": {
            "text/plain": [
              "(#10) [Path('testing/0'),Path('testing/1'),Path('testing/2'),Path('testing/3'),Path('testing/4'),Path('testing/5'),Path('testing/6'),Path('testing/7'),Path('testing/8'),Path('testing/9')]"
            ]
          },
          "metadata": {
            "tags": []
          },
          "execution_count": 6
        }
      ]
    },
    {
      "cell_type": "markdown",
      "metadata": {
        "id": "bW6A2WK-z7ek"
      },
      "source": [
        "The data has been arranged in folders: `training` and `testing`, each with folders for each type of image `0-9`."
      ]
    },
    {
      "cell_type": "markdown",
      "metadata": {
        "id": "hXJBeZNXRYaJ"
      },
      "source": [
        "# Data Preprocessing"
      ]
    },
    {
      "cell_type": "markdown",
      "metadata": {
        "id": "eyMBnc2h0Jpj"
      },
      "source": [
        "Writing custom functions to get our data.\n",
        "\n",
        "`load_mnist_data` does the following:\n",
        "\n",
        "\n",
        "*   scans the directories and get the labels\n",
        "*   creates X and y lists for holding the independent and dependent variables respectively\n",
        "*   for each file in a label folder, open the Image and append it to x, and append its label to y\n",
        "*   stacks all the images into a tensor, casts them to float and normalize the data to be between 0 and 1\n",
        "*   turn y (dependent variable) into a tensor\n",
        "*   return X and y\n",
        "\n"
      ]
    },
    {
      "cell_type": "code",
      "metadata": {
        "id": "S5RTqxDMDia4"
      },
      "source": [
        "def load_mnist_data(dataset, path):\n",
        "\n",
        "  # scan all the directories and create a list of labels\n",
        "  labels = os.listdir(path/dataset)\n",
        "  labels.sort()\n",
        "\n",
        "  # create lists for samples and labels\n",
        "  X = []\n",
        "  y = []\n",
        "\n",
        "  # for each label folder\n",
        "  for label in labels:\n",
        "    # and for each image in given folder\n",
        "    for file in (path/dataset/label).ls().sorted():\n",
        "    # open the image and append it and labels to lists\n",
        "      image = Image.open(file)\n",
        "      X.append(tensor(image))\n",
        "      y.append(int(label))\n",
        "  # stack all the images into a tensor\n",
        "  # and casts them into floats and \n",
        "  # normalizes them to between 0 and 1\n",
        "  X = torch.stack(X).float()/255\n",
        "  # turn y into tensor \n",
        "  y = tensor(y)\n",
        "  return X, y\n",
        "      "
      ],
      "execution_count": null,
      "outputs": []
    },
    {
      "cell_type": "markdown",
      "metadata": {
        "id": "M4X9prhV1j66"
      },
      "source": [
        "`create_data` loads the training and testing data, shuffles the training data and splits for validation data (using the percentage inputed as a parameter), flattens the X's, loads the data into datesets and returns them"
      ]
    },
    {
      "cell_type": "code",
      "metadata": {
        "id": "jFCTpQT6RHp7"
      },
      "source": [
        "def create_data(path, valid_split=0.2):\n",
        "\n",
        "  # load the training and testing dataset separately\n",
        "  X, y = load_mnist_data('training', path)\n",
        "  X_test, y_test = load_mnist_data('testing', path)\n",
        "\n",
        "  # shuffle the training data\n",
        "  # because I want to split for validation data\n",
        "  idx = torch.randperm(X.shape[0])\n",
        "  X = X[idx].view(X.size())\n",
        "  y = y[idx].view(y.size())\n",
        "\n",
        "  # Flatten the Training Images and Test Images\n",
        "  X = X.view(-1, 28*28)\n",
        "  X_test = X_test.view(-1, 28*28)\n",
        "\n",
        "  # default split is 20% \n",
        "  # but can be changed by parameter\n",
        "  train_index = int((1-valid_split) * X.shape[0])\n",
        "  X_train = X[:train_index]\n",
        "  y_train = y[:train_index]\n",
        "  X_valid = X[train_index:]\n",
        "  y_valid = y[train_index:]\n",
        "\n",
        "  # load the data into respective datasets\n",
        "  train = list(zip(X_train, y_train))\n",
        "  valid = list(zip(X_valid, y_valid))\n",
        "  test = list(zip(X_test, y_test))\n",
        "\n",
        "  # return the datasets\n",
        "  return train, valid, test"
      ],
      "execution_count": null,
      "outputs": []
    },
    {
      "cell_type": "markdown",
      "metadata": {
        "id": "5OIW22sbReEG"
      },
      "source": [
        "## DataSet"
      ]
    },
    {
      "cell_type": "markdown",
      "metadata": {
        "id": "hOr8VHdQ18te"
      },
      "source": [
        "Create the training, validation and testing datasets:"
      ]
    },
    {
      "cell_type": "code",
      "metadata": {
        "id": "jziOq2xBxERD"
      },
      "source": [
        "train_dset, valid_dset, test_dset = create_data(path)"
      ],
      "execution_count": null,
      "outputs": []
    },
    {
      "cell_type": "code",
      "metadata": {
        "colab": {
          "base_uri": "https://localhost:8080/"
        },
        "id": "rUDyHx-yDx48",
        "outputId": "bd333a43-716b-4dd6-ea32-61c33f22fa15"
      },
      "source": [
        "len(train_dset), len(valid_dset), len(test_dset)"
      ],
      "execution_count": null,
      "outputs": [
        {
          "output_type": "execute_result",
          "data": {
            "text/plain": [
              "(48000, 12000, 10000)"
            ]
          },
          "metadata": {
            "tags": []
          },
          "execution_count": 10
        }
      ]
    },
    {
      "cell_type": "markdown",
      "metadata": {
        "id": "KQMYOwWSRbvq"
      },
      "source": [
        "## DataLoaders"
      ]
    },
    {
      "cell_type": "markdown",
      "metadata": {
        "id": "4GcOwQ_Q2B-C"
      },
      "source": [
        "Create `DataLoaders` of the training and validation datasets.\n",
        "DataLoaders object groups the data in batches and shuffles the training data. "
      ]
    },
    {
      "cell_type": "code",
      "metadata": {
        "id": "P6TYesyMGHU0"
      },
      "source": [
        "train_dl = DataLoader(train_dset, bs=256, shuffle=True)\n",
        "valid_dl = DataLoader(valid_dset, bs=256, shuffle=False)\n",
        "\n",
        "dls = DataLoaders(train_dl, valid_dl)"
      ],
      "execution_count": null,
      "outputs": []
    },
    {
      "cell_type": "code",
      "metadata": {
        "colab": {
          "base_uri": "https://localhost:8080/"
        },
        "id": "ZyheRDDgLNbc",
        "outputId": "ad74e040-e003-408b-89a5-b2956c25dfb4"
      },
      "source": [
        "len(train_dl), len(valid_dl)"
      ],
      "execution_count": null,
      "outputs": [
        {
          "output_type": "execute_result",
          "data": {
            "text/plain": [
              "(188, 47)"
            ]
          },
          "metadata": {
            "tags": []
          },
          "execution_count": 12
        }
      ]
    },
    {
      "cell_type": "markdown",
      "metadata": {
        "id": "5LYutfIlRPcF"
      },
      "source": [
        "# Loss Function"
      ]
    },
    {
      "cell_type": "markdown",
      "metadata": {
        "id": "kV1GGzdk2TCe"
      },
      "source": [
        "Create the Loss Function we are going to use. We are using CrossEntropy Loss. It applies softmax along the columns. Then for each true label y, we get the activtion of our model in that index, apply negative log and return the mean of all the log likelihoods."
      ]
    },
    {
      "cell_type": "code",
      "metadata": {
        "id": "6g8NXG0BRRcO"
      },
      "source": [
        "def cross_entropy_loss(preds, y):\n",
        "  # apply softmax\n",
        "  preds = torch.softmax(preds, axis=1)\n",
        "\n",
        "  # get confidences for the correct class\n",
        "  idx = len(preds)\n",
        "  confidences = preds[range(idx), y]\n",
        "  \n",
        "  # calculate negative log likelihood and return it\n",
        "  log_ll =  -torch.log(confidences)\n",
        "  return log_ll.mean()"
      ],
      "execution_count": null,
      "outputs": []
    },
    {
      "cell_type": "markdown",
      "metadata": {
        "id": "ouDO__WZYXwP"
      },
      "source": [
        "# Testing with a Small Batch of Data First"
      ]
    },
    {
      "cell_type": "markdown",
      "metadata": {
        "id": "v8Dg1JIP3RvR"
      },
      "source": [
        "First test with a small batch of 5."
      ]
    },
    {
      "cell_type": "code",
      "metadata": {
        "id": "PYt_OdEtYUSI"
      },
      "source": [
        "batch = train_dset[:5]"
      ],
      "execution_count": null,
      "outputs": []
    },
    {
      "cell_type": "code",
      "metadata": {
        "id": "A4thd82XaC8G"
      },
      "source": [
        "data = [list(t) for t in zip(*batch)]\n",
        "x, y = data[0], data[1]\n",
        "\n",
        "xb = torch.stack(x)\n",
        "yb = torch.stack(y)"
      ],
      "execution_count": null,
      "outputs": []
    },
    {
      "cell_type": "code",
      "metadata": {
        "colab": {
          "base_uri": "https://localhost:8080/"
        },
        "id": "RhGvsDYhAxW3",
        "outputId": "325cc384-776a-4216-a352-e0a8f46b9f8a"
      },
      "source": [
        "xb.shape, yb.shape"
      ],
      "execution_count": null,
      "outputs": [
        {
          "output_type": "execute_result",
          "data": {
            "text/plain": [
              "(torch.Size([5, 784]), torch.Size([5]))"
            ]
          },
          "metadata": {
            "tags": []
          },
          "execution_count": 16
        }
      ]
    },
    {
      "cell_type": "markdown",
      "metadata": {
        "id": "JsaRnltPTQrR"
      },
      "source": [
        "## Simple Model"
      ]
    },
    {
      "cell_type": "markdown",
      "metadata": {
        "id": "qyFHLOHK3WZx"
      },
      "source": [
        "Create a Simple Model and a way to initialize parameters:"
      ]
    },
    {
      "cell_type": "code",
      "metadata": {
        "id": "ncAgzXsXTTIk"
      },
      "source": [
        "def init_params(size):\n",
        "  # we initialize them randomly\n",
        "  return (torch.randn(size)).requires_grad_()\n",
        "\n",
        "def linear_model(xb):\n",
        "  return xb@weights + biases"
      ],
      "execution_count": null,
      "outputs": []
    },
    {
      "cell_type": "code",
      "metadata": {
        "id": "W4CXfDKoBe-7"
      },
      "source": [
        "weights = init_params((28*28, 10))\n",
        "biases = init_params(10)"
      ],
      "execution_count": null,
      "outputs": []
    },
    {
      "cell_type": "markdown",
      "metadata": {
        "id": "-3wODWXC3aaV"
      },
      "source": [
        "Get the prediction using our simple model"
      ]
    },
    {
      "cell_type": "code",
      "metadata": {
        "colab": {
          "base_uri": "https://localhost:8080/"
        },
        "id": "SFul3ftGRvHu",
        "outputId": "b35475ee-c352-42cb-deef-1fdab76a5a96"
      },
      "source": [
        "preds = linear_model(xb)\n",
        "preds"
      ],
      "execution_count": null,
      "outputs": [
        {
          "output_type": "execute_result",
          "data": {
            "text/plain": [
              "tensor([[ -6.1437,   4.0145,  -3.3011,  10.8416,   2.8373,  -4.9992,  -4.0006,   2.1293,  -2.8763,   0.9276],\n",
              "        [-16.8374,  -0.0738,   0.1385,   5.9322,  -5.2228,  -9.1500,  -4.6410,  -0.7219,  -7.9332,   0.0583],\n",
              "        [  5.0356,  20.3790,   7.6596,   5.6966,   6.6603,  -7.0380, -13.5438,  -6.5366,  -9.8628, -14.5989],\n",
              "        [-16.7891,   1.4449,  -8.1602,  10.3384,  11.1292,  -7.6758,  -5.3469,   8.1163,  -5.0919,  -8.2615],\n",
              "        [  2.8669,   2.7041, -15.8582,  -9.5930,   9.6037,  -7.7810,   6.8469,   4.2515,   8.2869,  -9.1131]], grad_fn=<AddBackward0>)"
            ]
          },
          "metadata": {
            "tags": []
          },
          "execution_count": 19
        }
      ]
    },
    {
      "cell_type": "markdown",
      "metadata": {
        "id": "lm4-erTa3dJj"
      },
      "source": [
        "Calculate the Loss:"
      ]
    },
    {
      "cell_type": "code",
      "metadata": {
        "colab": {
          "base_uri": "https://localhost:8080/"
        },
        "id": "kKWDpW0RR2T4",
        "outputId": "f46e7623-0fc9-423c-b160-ec4df8e9f7de"
      },
      "source": [
        "loss = cross_entropy_loss(preds, yb)\n",
        "loss"
      ],
      "execution_count": null,
      "outputs": [
        {
          "output_type": "execute_result",
          "data": {
            "text/plain": [
              "tensor(8.0613, grad_fn=<MeanBackward0>)"
            ]
          },
          "metadata": {
            "tags": []
          },
          "execution_count": 20
        }
      ]
    },
    {
      "cell_type": "markdown",
      "metadata": {
        "id": "I2aaNNaP3fdG"
      },
      "source": [
        "Let's put that in a function:"
      ]
    },
    {
      "cell_type": "code",
      "metadata": {
        "id": "LKKNYCIDSAQX"
      },
      "source": [
        "def calc_grad(xb, yb, model):\n",
        "  preds = model(xb)\n",
        "  loss = cross_entropy_loss(preds, yb)\n",
        "  loss.backward()"
      ],
      "execution_count": null,
      "outputs": []
    },
    {
      "cell_type": "markdown",
      "metadata": {
        "id": "DfjLdD3z3wtK"
      },
      "source": [
        "Get the mean weights and biases gradients (because we can't display all of them)"
      ]
    },
    {
      "cell_type": "code",
      "metadata": {
        "colab": {
          "base_uri": "https://localhost:8080/"
        },
        "id": "aPDcKbUBS1KC",
        "outputId": "57ece912-360a-4744-d5d2-b979af6377ac"
      },
      "source": [
        "calc_grad(xb, yb, linear_model)\n",
        "weights.grad.mean(), biases.grad.mean()"
      ],
      "execution_count": null,
      "outputs": [
        {
          "output_type": "execute_result",
          "data": {
            "text/plain": [
              "(tensor(-4.8657e-10), tensor(0.))"
            ]
          },
          "metadata": {
            "tags": []
          },
          "execution_count": 22
        }
      ]
    },
    {
      "cell_type": "markdown",
      "metadata": {
        "id": "cPiBjL9B33UZ"
      },
      "source": [
        "Create a function to train for one epoch with our training data"
      ]
    },
    {
      "cell_type": "code",
      "metadata": {
        "id": "nSvZF8GrS7XB"
      },
      "source": [
        "def train_epoch(model, lr, params):\n",
        "  for xb, yb in train_dl:\n",
        "    calc_grad(xb, yb, model)\n",
        "    for p in params:\n",
        "      p.data -= p.grad*lr\n",
        "      p.grad.zero_()"
      ],
      "execution_count": null,
      "outputs": []
    },
    {
      "cell_type": "markdown",
      "metadata": {
        "id": "kw7ifYtlUjUM"
      },
      "source": [
        "## Accuracy Function"
      ]
    },
    {
      "cell_type": "markdown",
      "metadata": {
        "id": "8iE1l-Ty3-sk"
      },
      "source": [
        "Define the accuracy function we are going to use. It gets the index of the largest activation of the predictions assumes thats what out model predicts, and compares them with the true labels and get the mean."
      ]
    },
    {
      "cell_type": "code",
      "metadata": {
        "id": "4H6ueGM9UmRY"
      },
      "source": [
        "def batch_accuracy(preds, yb):\n",
        "  prediction = torch.argmax(preds, axis=1)\n",
        "  correct = (prediction == yb)\n",
        "  return correct.float().mean()"
      ],
      "execution_count": null,
      "outputs": []
    },
    {
      "cell_type": "markdown",
      "metadata": {
        "id": "nKWnPfwT4N2Z"
      },
      "source": [
        "Current accuracy of our simple model on the small batch:"
      ]
    },
    {
      "cell_type": "code",
      "metadata": {
        "colab": {
          "base_uri": "https://localhost:8080/"
        },
        "id": "D3g3PjD6UpfZ",
        "outputId": "e54f26a9-239c-49b1-987d-be9edc8fb948"
      },
      "source": [
        "batch_accuracy(linear_model(xb), yb)"
      ],
      "execution_count": null,
      "outputs": [
        {
          "output_type": "execute_result",
          "data": {
            "text/plain": [
              "tensor(0.2000)"
            ]
          },
          "metadata": {
            "tags": []
          },
          "execution_count": 25
        }
      ]
    },
    {
      "cell_type": "markdown",
      "metadata": {
        "id": "Rqi2-g6W4SOx"
      },
      "source": [
        "Create a function for validating an epoch. Remember we get the metrics on the validation dataset."
      ]
    },
    {
      "cell_type": "code",
      "metadata": {
        "id": "-0AiSr9jUxdP"
      },
      "source": [
        "def validate_epoch(model):\n",
        "  accs = [batch_accuracy(model(xb), yb) for xb, yb in valid_dl]\n",
        "  return round(torch.stack(accs).mean().item(), 4)"
      ],
      "execution_count": null,
      "outputs": []
    },
    {
      "cell_type": "markdown",
      "metadata": {
        "id": "ACmdzqw14cTF"
      },
      "source": [
        "Current accuracy on validation set:"
      ]
    },
    {
      "cell_type": "code",
      "metadata": {
        "colab": {
          "base_uri": "https://localhost:8080/"
        },
        "id": "Cvcc2Rs3U2yc",
        "outputId": "cf4baec7-6ec8-4f60-9fbf-3e60df4263bb"
      },
      "source": [
        "validate_epoch(linear_model)"
      ],
      "execution_count": null,
      "outputs": [
        {
          "output_type": "execute_result",
          "data": {
            "text/plain": [
              "0.07"
            ]
          },
          "metadata": {
            "tags": []
          },
          "execution_count": 27
        }
      ]
    },
    {
      "cell_type": "markdown",
      "metadata": {
        "id": "NzvTFUPB4fHT"
      },
      "source": [
        "Step the model once:"
      ]
    },
    {
      "cell_type": "code",
      "metadata": {
        "colab": {
          "base_uri": "https://localhost:8080/"
        },
        "id": "LG8rR9ezU-cI",
        "outputId": "7be6ff67-b638-41ec-c4bc-7712fad4fb0c"
      },
      "source": [
        "lr = 1\n",
        "params = weights, biases\n",
        "train_epoch(linear_model, lr, params)\n",
        "validate_epoch(linear_model)"
      ],
      "execution_count": null,
      "outputs": [
        {
          "output_type": "execute_result",
          "data": {
            "text/plain": [
              "0.8343"
            ]
          },
          "metadata": {
            "tags": []
          },
          "execution_count": 28
        }
      ]
    },
    {
      "cell_type": "markdown",
      "metadata": {
        "id": "m9ZZNfJH4h1i"
      },
      "source": [
        "Loop for a number of epochs and train and validate:"
      ]
    },
    {
      "cell_type": "code",
      "metadata": {
        "colab": {
          "base_uri": "https://localhost:8080/"
        },
        "id": "jRJBh7LBV49l",
        "outputId": "e040c31d-6fe5-477e-d577-10e5b60021e8"
      },
      "source": [
        "for i in range(20):\n",
        "  train_epoch(linear_model, lr, params)\n",
        "  print(validate_epoch(linear_model), end=' ')"
      ],
      "execution_count": null,
      "outputs": [
        {
          "output_type": "stream",
          "text": [
            "0.8627 0.8726 0.8783 0.8835 0.8826 0.8865 0.8904 0.8943 0.8958 0.8941 0.8984 0.8978 0.901 0.9009 0.8966 0.8989 0.9036 0.906 0.9034 0.9047 "
          ],
          "name": "stdout"
        }
      ]
    },
    {
      "cell_type": "markdown",
      "metadata": {
        "id": "BlbtAsbPWKQs"
      },
      "source": [
        "# Optimizer Class"
      ]
    },
    {
      "cell_type": "markdown",
      "metadata": {
        "id": "4eLT55474mDr"
      },
      "source": [
        "Create an optimzer class. We are going to use Basic SGD."
      ]
    },
    {
      "cell_type": "code",
      "metadata": {
        "id": "YIUKLnv_-h1j"
      },
      "source": [
        "class optimizer_SGD():\n",
        "  def __init__(self,params,lr): \n",
        "    self.params = list(params)\n",
        "    self.lr = lr\n",
        "  \n",
        "  def step(self, *args, **kwargs):\n",
        "    for p in self.params:\n",
        "      p.data -= p.grad.data * self.lr\n",
        "    \n",
        "  def zero_grad(self, *args, **kwargs):\n",
        "    for p in self.params:\n",
        "      p.grad = None"
      ],
      "execution_count": null,
      "outputs": []
    },
    {
      "cell_type": "markdown",
      "metadata": {
        "id": "EE_en9pR4xw4"
      },
      "source": [
        "We use the Linear model provided by PyTorch:"
      ]
    },
    {
      "cell_type": "code",
      "metadata": {
        "id": "OiYpbPSxJRbI"
      },
      "source": [
        "model = nn.Linear(28*28, 10)"
      ],
      "execution_count": null,
      "outputs": []
    },
    {
      "cell_type": "code",
      "metadata": {
        "colab": {
          "base_uri": "https://localhost:8080/"
        },
        "id": "MJ9_-wvoJRYg",
        "outputId": "75d0ef5d-53c7-4569-f7ce-335fdb03eabc"
      },
      "source": [
        "w, b = model.parameters()\n",
        "w.shape, b.shape"
      ],
      "execution_count": null,
      "outputs": [
        {
          "output_type": "execute_result",
          "data": {
            "text/plain": [
              "(torch.Size([10, 784]), torch.Size([10]))"
            ]
          },
          "metadata": {
            "tags": []
          },
          "execution_count": 32
        }
      ]
    },
    {
      "cell_type": "markdown",
      "metadata": {
        "id": "PZcWOVg65F4g"
      },
      "source": [
        "Function to train an epoch:"
      ]
    },
    {
      "cell_type": "code",
      "metadata": {
        "id": "EpNiYARPJRV1"
      },
      "source": [
        "def train_epoch(model):\n",
        "    for xb,yb in train_dl:\n",
        "        calc_grad(xb, yb, model)\n",
        "        optimizer.step()\n",
        "        optimizer.zero_grad()"
      ],
      "execution_count": null,
      "outputs": []
    },
    {
      "cell_type": "markdown",
      "metadata": {
        "id": "MfUCTNPJ5Jen"
      },
      "source": [
        "Function of training the whole model:"
      ]
    },
    {
      "cell_type": "code",
      "metadata": {
        "id": "nbZUxIpxJRTB"
      },
      "source": [
        "def train_model(model, epochs):\n",
        "  for i in range(epochs):\n",
        "    train_epoch(model)\n",
        "    print(validate_epoch(model), end=' ')"
      ],
      "execution_count": null,
      "outputs": []
    },
    {
      "cell_type": "markdown",
      "metadata": {
        "id": "qJVXwJUt5MN6"
      },
      "source": [
        "Initialize the optimizer"
      ]
    },
    {
      "cell_type": "code",
      "metadata": {
        "id": "sksuT7HFJRQK"
      },
      "source": [
        "optimizer = optimizer_SGD(model.parameters(), lr)"
      ],
      "execution_count": null,
      "outputs": []
    },
    {
      "cell_type": "markdown",
      "metadata": {
        "id": "fw4ueW2Q5OR9"
      },
      "source": [
        "Train the model for 20 epochs."
      ]
    },
    {
      "cell_type": "code",
      "metadata": {
        "colab": {
          "base_uri": "https://localhost:8080/"
        },
        "id": "qJ_3P2ByWZy3",
        "outputId": "a513369a-c3bd-42f5-cc4e-8d35bc69a17f"
      },
      "source": [
        "train_model(model, 20)"
      ],
      "execution_count": null,
      "outputs": [
        {
          "output_type": "stream",
          "text": [
            "0.9044 0.8976 0.9116 0.9113 0.9027 0.9175 0.9162 0.917 0.9155 0.9158 0.9124 0.9083 0.9073 0.9167 0.9194 0.9187 0.9187 0.9185 0.9188 0.9199 "
          ],
          "name": "stdout"
        }
      ]
    },
    {
      "cell_type": "markdown",
      "metadata": {
        "id": "8KIN5zda5Rjh"
      },
      "source": [
        "Our simple linear model is training! Next, let's make a Neural Network"
      ]
    },
    {
      "cell_type": "markdown",
      "metadata": {
        "id": "WsbNYnQ_W9pd"
      },
      "source": [
        "# Adding Non-Linearity"
      ]
    },
    {
      "cell_type": "markdown",
      "metadata": {
        "id": "ZV0Km_yq5YAQ"
      },
      "source": [
        "We create a simple neural network by adding a non-linearity (ReLU) between the Dense/Linear layers"
      ]
    },
    {
      "cell_type": "code",
      "metadata": {
        "id": "1KzJQ7WpWZwz"
      },
      "source": [
        "model = nn.Sequential(\n",
        "    nn.Linear(28*28, 60),\n",
        "    nn.ReLU(),\n",
        "    nn.Linear(60, 10)\n",
        ")"
      ],
      "execution_count": null,
      "outputs": []
    },
    {
      "cell_type": "code",
      "metadata": {
        "id": "FRscUrAVWZt5"
      },
      "source": [
        "optimizer = optimizer_SGD(model.parameters(), lr)"
      ],
      "execution_count": null,
      "outputs": []
    },
    {
      "cell_type": "code",
      "metadata": {
        "colab": {
          "base_uri": "https://localhost:8080/"
        },
        "id": "fHZ9-sVvWZrJ",
        "outputId": "3ebb388f-9495-4155-ed0a-48c7215f1ac1"
      },
      "source": [
        "train_model(model, 20)"
      ],
      "execution_count": null,
      "outputs": [
        {
          "output_type": "stream",
          "text": [
            "0.9246 0.9132 0.9522 0.9563 0.9599 0.961 0.9571 0.9634 0.9618 0.9586 0.9643 0.9642 0.9631 0.9638 0.9668 0.9601 0.9675 0.9604 0.9671 0.9685 "
          ],
          "name": "stdout"
        }
      ]
    },
    {
      "cell_type": "markdown",
      "metadata": {
        "id": "jnkzQjUz5r8G"
      },
      "source": [
        "We got a higher accuracy than with just a linear model."
      ]
    },
    {
      "cell_type": "markdown",
      "metadata": {
        "id": "Y5YXGP8rXc8m"
      },
      "source": [
        "# Custom Learner Class"
      ]
    },
    {
      "cell_type": "markdown",
      "metadata": {
        "id": "-vIbsTB_5yaH"
      },
      "source": [
        "Let's create a Custom Learner class like the one provided by fastai.\n",
        "\n",
        "The `Custom_Learner` brings all the following into one class:\n",
        "\n",
        "\n",
        "*   DataLoaders\n",
        "*   The Model\n",
        "*   The Loss Function to use\n",
        "*   The Optimizer\n",
        "*   Metrics you want printed out (currently only batch accuracy works)!\n",
        "\n",
        "It then provides a fit method to train your model for the number of epochs you want. It prints out a bunch of important stuff that give you information about how your model is training.\n",
        "\n",
        "It provides two methods `plot_loss` and `plot_accuracy` to plot loss and accuracy respectively\n",
        "\n",
        "\n"
      ]
    },
    {
      "cell_type": "code",
      "metadata": {
        "id": "O813CB2eP5Nw"
      },
      "source": [
        "class Custom_Learner():\n",
        "  \n",
        "  # initialize the class\n",
        "  def __init__(self, dls=None, model=None, loss_func=None, opt=None, metrics=None):\n",
        "    self.train_dl, self.valid_dl = dls\n",
        "    self.model = model\n",
        "    self.loss_func = loss_func\n",
        "    self.opt = opt\n",
        "    self.metrics = metrics\n",
        "\n",
        "    # for printing purposes\n",
        "    self._epoch = 0.\n",
        "    self._tloss = 0.\n",
        "    self._vloss = 0.\n",
        "    self._met = 0.\n",
        "\n",
        "    # for plotting purposes\n",
        "    self._epochs = []\n",
        "    self._losses = []\n",
        "    self._accuracies = []\n",
        "\n",
        "  # the fit method is used to train the model\n",
        "  def fit(self, epochs=None, lr=None):\n",
        "    self.lr = lr\n",
        "    self.train_model(self.model, epochs)\n",
        "  \n",
        "  # train epoch\n",
        "  def train_epoch(self, model):\n",
        "    for xb, yb in self.train_dl:\n",
        "      predictions = model(xb)\n",
        "      loss = self.loss_func(predictions, yb)\n",
        "      self._tloss = round(loss.item(), 4)\n",
        "      loss.backward()\n",
        "      self.opt.step()\n",
        "      self.opt.zero_grad()\n",
        "    \n",
        "    for xb, yb in self.valid_dl:\n",
        "      predictions = model(xb)\n",
        "      loss = self.loss_func(predictions, yb)\n",
        "      self._vloss = round(loss.item(), 4)\n",
        "  \n",
        "  # validate epoch\n",
        "  def validate_epoch(self, model):\n",
        "    accs = [self.metrics(model(xb), yb) for xb, yb in self.valid_dl]\n",
        "    self._met = round(torch.stack(accs).mean().item(), 4)\n",
        "  \n",
        "  # print output as the model is training\n",
        "  def show_output(self):\n",
        "    print(f'epoch {self._epoch}: ' +\n",
        "          f'train_loss: {self._tloss:.4f}, ' +\n",
        "          f'valid_loss: {self._vloss:.4f}, ' +\n",
        "          f'accuracy: {self._met:.4f}')\n",
        "    \n",
        "  # training the model\n",
        "  def train_model(self, model, epochs):\n",
        "    self.opt = self.opt(self.model.parameters(), self.lr)\n",
        "    for i in range(epochs):\n",
        "      self._epoch = i\n",
        "      # train the model\n",
        "      self.train_epoch(self.model)\n",
        "      # validate the model and print out metrics\n",
        "      self.validate_epoch(self.model)\n",
        "      self.update_accuracies(self._met)\n",
        "      self.update_losses(self._vloss)\n",
        "      self.update_epochs(self._epoch+1)\n",
        "      self.show_output()\n",
        "  \n",
        "  # update accuracies\n",
        "  def update_accuracies(self, accuracy):\n",
        "    self._accuracies.append(accuracy)\n",
        "  \n",
        "  # update losses\n",
        "  def update_losses(self, loss):\n",
        "    self._losses.append(loss)\n",
        "  \n",
        "  # update epochs\n",
        "  def update_epochs(self, epoch):\n",
        "    self._epochs.append(epoch)\n",
        "\n",
        "  # plot losses\n",
        "  def plot_loss(self):\n",
        "    fig, ax = plt.subplots(figsize=(6, 6))\n",
        "    ax.plot(self._epochs, self._losses)\n",
        "    ax.set_title('Loss in Validation')\n",
        "    ax.set_ylabel('loss')\n",
        "    ax.set_xlabel('epochs')\n",
        "\n",
        "  # plot accuracies\n",
        "  def plot_accuracy(self):\n",
        "    fig, ax = plt.subplots(figsize=(6, 6))\n",
        "    ax.plot(self._epochs, self._accuracies)\n",
        "    ax.set_title('Accuracy in Validation')\n",
        "    ax.set_ylabel('accuracy')\n",
        "    ax.set_xlabel('epochs')\n"
      ],
      "execution_count": null,
      "outputs": []
    },
    {
      "cell_type": "markdown",
      "metadata": {
        "id": "EblBMmBZ7Fkz"
      },
      "source": [
        "Initialize the learner and train a linear model for 10 epochs:"
      ]
    },
    {
      "cell_type": "code",
      "metadata": {
        "id": "7eYTE2fmQnhu"
      },
      "source": [
        "learn = Custom_Learner(dls=dls, model=nn.Linear(28*28,10), loss_func=cross_entropy_loss, opt=optimizer_SGD, metrics=batch_accuracy)"
      ],
      "execution_count": null,
      "outputs": []
    },
    {
      "cell_type": "code",
      "metadata": {
        "colab": {
          "base_uri": "https://localhost:8080/"
        },
        "id": "d9hjgwEDQ7xP",
        "outputId": "261e1d30-b0ab-4dfe-a2e5-6005f377dcc9"
      },
      "source": [
        "learn.fit(10, lr=1)"
      ],
      "execution_count": null,
      "outputs": [
        {
          "output_type": "stream",
          "text": [
            "epoch 0: train_loss: 0.3088, valid_loss: 0.3051, accuracy: 0.9004\n",
            "epoch 1: train_loss: 0.2743, valid_loss: 0.2870, accuracy: 0.9104\n",
            "epoch 2: train_loss: 0.3582, valid_loss: 0.3337, accuracy: 0.9090\n",
            "epoch 3: train_loss: 0.3350, valid_loss: 0.3745, accuracy: 0.9013\n",
            "epoch 4: train_loss: 0.3637, valid_loss: 0.2628, accuracy: 0.9200\n",
            "epoch 5: train_loss: 0.3141, valid_loss: 0.2671, accuracy: 0.9162\n",
            "epoch 6: train_loss: 0.3654, valid_loss: 0.2851, accuracy: 0.9166\n",
            "epoch 7: train_loss: 0.3578, valid_loss: 0.2742, accuracy: 0.9186\n",
            "epoch 8: train_loss: 0.3177, valid_loss: 0.2481, accuracy: 0.9143\n",
            "epoch 9: train_loss: 0.2492, valid_loss: 0.2476, accuracy: 0.9188\n"
          ],
          "name": "stdout"
        }
      ]
    },
    {
      "cell_type": "markdown",
      "metadata": {
        "id": "z8NaT-ge7R6F"
      },
      "source": [
        "Create a Neural Network with two layers of 60 neurons and 10 neurons (for the output) respectively. Create a learner using the neural network and train for 40 epochs:"
      ]
    },
    {
      "cell_type": "code",
      "metadata": {
        "id": "D4Ef0DUCQ9Ss"
      },
      "source": [
        "neural_net = nn.Sequential(\n",
        "    nn.Linear(28*28, 60),\n",
        "    nn.ReLU(),\n",
        "    nn.Linear(60, 10)\n",
        ")"
      ],
      "execution_count": null,
      "outputs": []
    },
    {
      "cell_type": "code",
      "metadata": {
        "id": "PFsr5iY9Y4l7"
      },
      "source": [
        "neural_learn = Custom_Learner(dls=dls, model=neural_net, loss_func=cross_entropy_loss, opt=optimizer_SGD, metrics=batch_accuracy)"
      ],
      "execution_count": null,
      "outputs": []
    },
    {
      "cell_type": "code",
      "metadata": {
        "colab": {
          "base_uri": "https://localhost:8080/"
        },
        "id": "nEmztIDVY8N8",
        "outputId": "10f5aca4-90da-46d1-a2e5-a918f91d41eb"
      },
      "source": [
        "neural_learn.fit(40, lr=0.1)"
      ],
      "execution_count": null,
      "outputs": [
        {
          "output_type": "stream",
          "text": [
            "epoch 0: train_loss: 0.3631, valid_loss: 0.4309, accuracy: 0.8853\n",
            "epoch 1: train_loss: 0.2910, valid_loss: 0.3314, accuracy: 0.9009\n",
            "epoch 2: train_loss: 0.2070, valid_loss: 0.3150, accuracy: 0.9086\n",
            "epoch 3: train_loss: 0.2449, valid_loss: 0.2691, accuracy: 0.9167\n",
            "epoch 4: train_loss: 0.1705, valid_loss: 0.2612, accuracy: 0.9209\n",
            "epoch 5: train_loss: 0.3868, valid_loss: 0.2407, accuracy: 0.9220\n",
            "epoch 6: train_loss: 0.3421, valid_loss: 0.2427, accuracy: 0.9287\n",
            "epoch 7: train_loss: 0.2397, valid_loss: 0.2168, accuracy: 0.9312\n",
            "epoch 8: train_loss: 0.2251, valid_loss: 0.2089, accuracy: 0.9360\n",
            "epoch 9: train_loss: 0.2571, valid_loss: 0.2050, accuracy: 0.9368\n",
            "epoch 10: train_loss: 0.1237, valid_loss: 0.2030, accuracy: 0.9412\n",
            "epoch 11: train_loss: 0.1395, valid_loss: 0.1863, accuracy: 0.9420\n",
            "epoch 12: train_loss: 0.1660, valid_loss: 0.1853, accuracy: 0.9452\n",
            "epoch 13: train_loss: 0.1859, valid_loss: 0.1756, accuracy: 0.9458\n",
            "epoch 14: train_loss: 0.2863, valid_loss: 0.1781, accuracy: 0.9487\n",
            "epoch 15: train_loss: 0.1817, valid_loss: 0.1552, accuracy: 0.9484\n",
            "epoch 16: train_loss: 0.2339, valid_loss: 0.1580, accuracy: 0.9504\n",
            "epoch 17: train_loss: 0.1515, valid_loss: 0.1497, accuracy: 0.9520\n",
            "epoch 18: train_loss: 0.2384, valid_loss: 0.1537, accuracy: 0.9522\n",
            "epoch 19: train_loss: 0.0777, valid_loss: 0.1347, accuracy: 0.9540\n",
            "epoch 20: train_loss: 0.0860, valid_loss: 0.1400, accuracy: 0.9546\n",
            "epoch 21: train_loss: 0.1119, valid_loss: 0.1318, accuracy: 0.9565\n",
            "epoch 22: train_loss: 0.1379, valid_loss: 0.1172, accuracy: 0.9549\n",
            "epoch 23: train_loss: 0.1164, valid_loss: 0.1154, accuracy: 0.9567\n",
            "epoch 24: train_loss: 0.0736, valid_loss: 0.1196, accuracy: 0.9577\n",
            "epoch 25: train_loss: 0.1515, valid_loss: 0.1101, accuracy: 0.9584\n",
            "epoch 26: train_loss: 0.0835, valid_loss: 0.1159, accuracy: 0.9595\n",
            "epoch 27: train_loss: 0.0445, valid_loss: 0.1032, accuracy: 0.9601\n",
            "epoch 28: train_loss: 0.0642, valid_loss: 0.1026, accuracy: 0.9603\n",
            "epoch 29: train_loss: 0.0677, valid_loss: 0.0922, accuracy: 0.9612\n",
            "epoch 30: train_loss: 0.0825, valid_loss: 0.0926, accuracy: 0.9626\n",
            "epoch 31: train_loss: 0.0565, valid_loss: 0.0877, accuracy: 0.9621\n",
            "epoch 32: train_loss: 0.0360, valid_loss: 0.0892, accuracy: 0.9622\n",
            "epoch 33: train_loss: 0.0262, valid_loss: 0.0965, accuracy: 0.9627\n",
            "epoch 34: train_loss: 0.0535, valid_loss: 0.0961, accuracy: 0.9632\n",
            "epoch 35: train_loss: 0.1062, valid_loss: 0.0790, accuracy: 0.9625\n",
            "epoch 36: train_loss: 0.1547, valid_loss: 0.0835, accuracy: 0.9634\n",
            "epoch 37: train_loss: 0.0607, valid_loss: 0.0794, accuracy: 0.9633\n",
            "epoch 38: train_loss: 0.0335, valid_loss: 0.0820, accuracy: 0.9649\n",
            "epoch 39: train_loss: 0.0705, valid_loss: 0.0728, accuracy: 0.9646\n"
          ],
          "name": "stdout"
        }
      ]
    },
    {
      "cell_type": "code",
      "metadata": {
        "colab": {
          "base_uri": "https://localhost:8080/",
          "height": 404
        },
        "id": "2l5zPQnk7nrE",
        "outputId": "212c0c70-91db-4e43-bbc1-dedc57ed6a75"
      },
      "source": [
        "neural_learn.plot_loss()"
      ],
      "execution_count": null,
      "outputs": [
        {
          "output_type": "display_data",
          "data": {
            "image/png": "[encoded data removed]",
            "text/plain": [
              "<Figure size 432x432 with 1 Axes>"
            ]
          },
          "metadata": {
            "tags": [],
            "needs_background": "light"
          }
        }
      ]
    },
    {
      "cell_type": "code",
      "metadata": {
        "colab": {
          "base_uri": "https://localhost:8080/",
          "height": 404
        },
        "id": "fUQPrnl37p9J",
        "outputId": "ab3220a8-77c5-4125-eddb-fa3d132a08d5"
      },
      "source": [
        "neural_learn.plot_accuracy()"
      ],
      "execution_count": null,
      "outputs": [
        {
          "output_type": "display_data",
          "data": {
            "image/png": "[encoded data removed]",
            "text/plain": [
              "<Figure size 432x432 with 1 Axes>"
            ]
          },
          "metadata": {
            "tags": [],
            "needs_background": "light"
          }
        }
      ]
    },
    {
      "cell_type": "markdown",
      "metadata": {
        "id": "rwfERD4mZ7lp"
      },
      "source": [
        "# Using Classes provided by fastai and PyTorch"
      ]
    },
    {
      "cell_type": "markdown",
      "metadata": {
        "id": "D5b_xJJO7ut2"
      },
      "source": [
        "Do the same with classes provided by fastai and PyTorch:"
      ]
    },
    {
      "cell_type": "code",
      "metadata": {
        "id": "S8M3nfsHZFj5"
      },
      "source": [
        "neural_net = nn.Sequential(\n",
        "    nn.Linear(28*28, 60),\n",
        "    nn.ReLU(),\n",
        "    nn.Linear(60, 10)\n",
        ")"
      ],
      "execution_count": null,
      "outputs": []
    },
    {
      "cell_type": "code",
      "metadata": {
        "colab": {
          "base_uri": "https://localhost:8080/",
          "height": 1000
        },
        "id": "6rXdCPr7aMPC",
        "outputId": "abf0396f-5a04-4f8f-d736-f1ff5d28ae0b"
      },
      "source": [
        "learn = Learner(dls=dls, model=neural_net, loss_func=cross_entropy_loss, opt_func=SGD, metrics=batch_accuracy)\n",
        "\n",
        "learn.fit(40, 0.1)"
      ],
      "execution_count": null,
      "outputs": [
        {
          "output_type": "display_data",
          "data": {
            "text/html": [
              "<table border=\"1\" class=\"dataframe\">\n",
              "  <thead>\n",
              "    <tr style=\"text-align: left;\">\n",
              "      <th>epoch</th>\n",
              "      <th>train_loss</th>\n",
              "      <th>valid_loss</th>\n",
              "      <th>batch_accuracy</th>\n",
              "      <th>time</th>\n",
              "    </tr>\n",
              "  </thead>\n",
              "  <tbody>\n",
              "    <tr>\n",
              "      <td>0</td>\n",
              "      <td>0.557961</td>\n",
              "      <td>0.443040</td>\n",
              "      <td>0.884917</td>\n",
              "      <td>00:01</td>\n",
              "    </tr>\n",
              "    <tr>\n",
              "      <td>1</td>\n",
              "      <td>0.359374</td>\n",
              "      <td>0.355326</td>\n",
              "      <td>0.900000</td>\n",
              "      <td>00:01</td>\n",
              "    </tr>\n",
              "    <tr>\n",
              "      <td>2</td>\n",
              "      <td>0.318354</td>\n",
              "      <td>0.322620</td>\n",
              "      <td>0.909250</td>\n",
              "      <td>00:01</td>\n",
              "    </tr>\n",
              "    <tr>\n",
              "      <td>3</td>\n",
              "      <td>0.294614</td>\n",
              "      <td>0.295304</td>\n",
              "      <td>0.918583</td>\n",
              "      <td>00:01</td>\n",
              "    </tr>\n",
              "    <tr>\n",
              "      <td>4</td>\n",
              "      <td>0.267055</td>\n",
              "      <td>0.279999</td>\n",
              "      <td>0.921583</td>\n",
              "      <td>00:01</td>\n",
              "    </tr>\n",
              "    <tr>\n",
              "      <td>5</td>\n",
              "      <td>0.253666</td>\n",
              "      <td>0.264982</td>\n",
              "      <td>0.926667</td>\n",
              "      <td>00:01</td>\n",
              "    </tr>\n",
              "    <tr>\n",
              "      <td>6</td>\n",
              "      <td>0.231530</td>\n",
              "      <td>0.250226</td>\n",
              "      <td>0.930500</td>\n",
              "      <td>00:01</td>\n",
              "    </tr>\n",
              "    <tr>\n",
              "      <td>7</td>\n",
              "      <td>0.222048</td>\n",
              "      <td>0.243142</td>\n",
              "      <td>0.932250</td>\n",
              "      <td>00:01</td>\n",
              "    </tr>\n",
              "    <tr>\n",
              "      <td>8</td>\n",
              "      <td>0.211591</td>\n",
              "      <td>0.234166</td>\n",
              "      <td>0.933583</td>\n",
              "      <td>00:01</td>\n",
              "    </tr>\n",
              "    <tr>\n",
              "      <td>9</td>\n",
              "      <td>0.203453</td>\n",
              "      <td>0.219655</td>\n",
              "      <td>0.939417</td>\n",
              "      <td>00:01</td>\n",
              "    </tr>\n",
              "    <tr>\n",
              "      <td>10</td>\n",
              "      <td>0.188686</td>\n",
              "      <td>0.213178</td>\n",
              "      <td>0.939583</td>\n",
              "      <td>00:01</td>\n",
              "    </tr>\n",
              "    <tr>\n",
              "      <td>11</td>\n",
              "      <td>0.179832</td>\n",
              "      <td>0.204549</td>\n",
              "      <td>0.943917</td>\n",
              "      <td>00:01</td>\n",
              "    </tr>\n",
              "    <tr>\n",
              "      <td>12</td>\n",
              "      <td>0.177787</td>\n",
              "      <td>0.196770</td>\n",
              "      <td>0.946167</td>\n",
              "      <td>00:01</td>\n",
              "    </tr>\n",
              "    <tr>\n",
              "      <td>13</td>\n",
              "      <td>0.168090</td>\n",
              "      <td>0.189430</td>\n",
              "      <td>0.947833</td>\n",
              "      <td>00:01</td>\n",
              "    </tr>\n",
              "    <tr>\n",
              "      <td>14</td>\n",
              "      <td>0.154877</td>\n",
              "      <td>0.185932</td>\n",
              "      <td>0.948417</td>\n",
              "      <td>00:01</td>\n",
              "    </tr>\n",
              "    <tr>\n",
              "      <td>15</td>\n",
              "      <td>0.153901</td>\n",
              "      <td>0.177504</td>\n",
              "      <td>0.951583</td>\n",
              "      <td>00:01</td>\n",
              "    </tr>\n",
              "    <tr>\n",
              "      <td>16</td>\n",
              "      <td>0.152321</td>\n",
              "      <td>0.173115</td>\n",
              "      <td>0.952250</td>\n",
              "      <td>00:01</td>\n",
              "    </tr>\n",
              "    <tr>\n",
              "      <td>17</td>\n",
              "      <td>0.143580</td>\n",
              "      <td>0.171047</td>\n",
              "      <td>0.952917</td>\n",
              "      <td>00:01</td>\n",
              "    </tr>\n",
              "    <tr>\n",
              "      <td>18</td>\n",
              "      <td>0.137378</td>\n",
              "      <td>0.164233</td>\n",
              "      <td>0.954167</td>\n",
              "      <td>00:01</td>\n",
              "    </tr>\n",
              "    <tr>\n",
              "      <td>19</td>\n",
              "      <td>0.132084</td>\n",
              "      <td>0.160965</td>\n",
              "      <td>0.955833</td>\n",
              "      <td>00:01</td>\n",
              "    </tr>\n",
              "    <tr>\n",
              "      <td>20</td>\n",
              "      <td>0.127193</td>\n",
              "      <td>0.157622</td>\n",
              "      <td>0.955000</td>\n",
              "      <td>00:01</td>\n",
              "    </tr>\n",
              "    <tr>\n",
              "      <td>21</td>\n",
              "      <td>0.121503</td>\n",
              "      <td>0.153875</td>\n",
              "      <td>0.957250</td>\n",
              "      <td>00:01</td>\n",
              "    </tr>\n",
              "    <tr>\n",
              "      <td>22</td>\n",
              "      <td>0.120519</td>\n",
              "      <td>0.153473</td>\n",
              "      <td>0.956750</td>\n",
              "      <td>00:01</td>\n",
              "    </tr>\n",
              "    <tr>\n",
              "      <td>23</td>\n",
              "      <td>0.112742</td>\n",
              "      <td>0.148018</td>\n",
              "      <td>0.958750</td>\n",
              "      <td>00:01</td>\n",
              "    </tr>\n",
              "    <tr>\n",
              "      <td>24</td>\n",
              "      <td>0.114347</td>\n",
              "      <td>0.145767</td>\n",
              "      <td>0.958833</td>\n",
              "      <td>00:01</td>\n",
              "    </tr>\n",
              "    <tr>\n",
              "      <td>25</td>\n",
              "      <td>0.111867</td>\n",
              "      <td>0.144391</td>\n",
              "      <td>0.959917</td>\n",
              "      <td>00:01</td>\n",
              "    </tr>\n",
              "    <tr>\n",
              "      <td>26</td>\n",
              "      <td>0.103694</td>\n",
              "      <td>0.141626</td>\n",
              "      <td>0.960250</td>\n",
              "      <td>00:01</td>\n",
              "    </tr>\n",
              "    <tr>\n",
              "      <td>27</td>\n",
              "      <td>0.100988</td>\n",
              "      <td>0.138358</td>\n",
              "      <td>0.961083</td>\n",
              "      <td>00:01</td>\n",
              "    </tr>\n",
              "    <tr>\n",
              "      <td>28</td>\n",
              "      <td>0.097746</td>\n",
              "      <td>0.138013</td>\n",
              "      <td>0.960750</td>\n",
              "      <td>00:01</td>\n",
              "    </tr>\n",
              "    <tr>\n",
              "      <td>29</td>\n",
              "      <td>0.096592</td>\n",
              "      <td>0.134769</td>\n",
              "      <td>0.961667</td>\n",
              "      <td>00:01</td>\n",
              "    </tr>\n",
              "    <tr>\n",
              "      <td>30</td>\n",
              "      <td>0.095513</td>\n",
              "      <td>0.131796</td>\n",
              "      <td>0.962250</td>\n",
              "      <td>00:01</td>\n",
              "    </tr>\n",
              "    <tr>\n",
              "      <td>31</td>\n",
              "      <td>0.094317</td>\n",
              "      <td>0.132364</td>\n",
              "      <td>0.962667</td>\n",
              "      <td>00:01</td>\n",
              "    </tr>\n",
              "    <tr>\n",
              "      <td>32</td>\n",
              "      <td>0.093559</td>\n",
              "      <td>0.129478</td>\n",
              "      <td>0.963167</td>\n",
              "      <td>00:01</td>\n",
              "    </tr>\n",
              "    <tr>\n",
              "      <td>33</td>\n",
              "      <td>0.086375</td>\n",
              "      <td>0.127645</td>\n",
              "      <td>0.963750</td>\n",
              "      <td>00:01</td>\n",
              "    </tr>\n",
              "    <tr>\n",
              "      <td>34</td>\n",
              "      <td>0.084274</td>\n",
              "      <td>0.129136</td>\n",
              "      <td>0.963583</td>\n",
              "      <td>00:01</td>\n",
              "    </tr>\n",
              "    <tr>\n",
              "      <td>35</td>\n",
              "      <td>0.086379</td>\n",
              "      <td>0.125169</td>\n",
              "      <td>0.963750</td>\n",
              "      <td>00:01</td>\n",
              "    </tr>\n",
              "    <tr>\n",
              "      <td>36</td>\n",
              "      <td>0.082894</td>\n",
              "      <td>0.126118</td>\n",
              "      <td>0.965083</td>\n",
              "      <td>00:01</td>\n",
              "    </tr>\n",
              "    <tr>\n",
              "      <td>37</td>\n",
              "      <td>0.080049</td>\n",
              "      <td>0.127397</td>\n",
              "      <td>0.963833</td>\n",
              "      <td>00:01</td>\n",
              "    </tr>\n",
              "    <tr>\n",
              "      <td>38</td>\n",
              "      <td>0.073892</td>\n",
              "      <td>0.121810</td>\n",
              "      <td>0.965333</td>\n",
              "      <td>00:01</td>\n",
              "    </tr>\n",
              "    <tr>\n",
              "      <td>39</td>\n",
              "      <td>0.073599</td>\n",
              "      <td>0.122001</td>\n",
              "      <td>0.965250</td>\n",
              "      <td>00:01</td>\n",
              "    </tr>\n",
              "  </tbody>\n",
              "</table>"
            ],
            "text/plain": [
              "<IPython.core.display.HTML object>"
            ]
          },
          "metadata": {
            "tags": []
          }
        }
      ]
    },
    {
      "cell_type": "markdown",
      "metadata": {
        "id": "nAiVHScE729_"
      },
      "source": [
        "It does the exact same thing as our from scratch. This just shows the classes provided by Frameworks are not magic!"
      ]
    },
    {
      "cell_type": "markdown",
      "metadata": {
        "id": "GNr2fEipbTiD"
      },
      "source": [
        "# Test Set"
      ]
    },
    {
      "cell_type": "markdown",
      "metadata": {
        "id": "QMzUvH3f8E9h"
      },
      "source": [
        "Let us work on our test set that we set aside."
      ]
    },
    {
      "cell_type": "code",
      "metadata": {
        "id": "ATyeAIT9ayHg",
        "colab": {
          "base_uri": "https://localhost:8080/"
        },
        "outputId": "85d08f35-54a2-4748-dcbe-d30f7d860105"
      },
      "source": [
        "len(test_dset)"
      ],
      "execution_count": null,
      "outputs": [
        {
          "output_type": "execute_result",
          "data": {
            "text/plain": [
              "10000"
            ]
          },
          "metadata": {
            "tags": []
          },
          "execution_count": 50
        }
      ]
    },
    {
      "cell_type": "code",
      "metadata": {
        "id": "omhiLnN8dSdi"
      },
      "source": [
        "testing_data = [list(t) for t in zip(*test_dset)]\n",
        "x, y = testing_data[0], testing_data[1]\n",
        "\n",
        "xtest = torch.stack(x)\n",
        "ytest = torch.stack(y)"
      ],
      "execution_count": null,
      "outputs": []
    },
    {
      "cell_type": "markdown",
      "metadata": {
        "id": "cpGjIhLH8JY3"
      },
      "source": [
        "Get the model from our `neural_learn` Learner:"
      ]
    },
    {
      "cell_type": "code",
      "metadata": {
        "colab": {
          "base_uri": "https://localhost:8080/"
        },
        "id": "2X3-QX1-t6-u",
        "outputId": "e285c1f7-8ba4-4326-d6f2-c6100be98a48"
      },
      "source": [
        "neural_learn.model"
      ],
      "execution_count": null,
      "outputs": [
        {
          "output_type": "execute_result",
          "data": {
            "text/plain": [
              "Sequential(\n",
              "  (0): Linear(in_features=784, out_features=60, bias=True)\n",
              "  (1): ReLU()\n",
              "  (2): Linear(in_features=60, out_features=10, bias=True)\n",
              ")"
            ]
          },
          "metadata": {
            "tags": []
          },
          "execution_count": 52
        }
      ]
    },
    {
      "cell_type": "markdown",
      "metadata": {
        "id": "6Y4m9diM8QpL"
      },
      "source": [
        "Create a function to run inference on the test set:"
      ]
    },
    {
      "cell_type": "code",
      "metadata": {
        "id": "iIdhzw1Nt9s5"
      },
      "source": [
        "def inference(model, x, y):\n",
        "  acts = model(x)\n",
        "  predictions = torch.argmax(acts, axis=1)\n",
        "  correct = (predictions == y)\n",
        "  return (correct.float().mean()).item()"
      ],
      "execution_count": null,
      "outputs": []
    },
    {
      "cell_type": "code",
      "metadata": {
        "colab": {
          "base_uri": "https://localhost:8080/"
        },
        "id": "Ikqns8syvUOH",
        "outputId": "e8d31835-e4ef-42d1-be64-38a822d87099"
      },
      "source": [
        "test_accuracy = inference(neural_learn.model, xtest, ytest)\n",
        "print(f'Our Final Accuracy on the Test set is: {test_accuracy:.4f}')"
      ],
      "execution_count": null,
      "outputs": [
        {
          "output_type": "stream",
          "text": [
            "Our Final Accuracy on the Test set is: 0.9694\n"
          ],
          "name": "stdout"
        }
      ]
    },
    {
      "cell_type": "markdown",
      "metadata": {
        "id": "8PciWGmX8Wq4"
      },
      "source": [
        "That's our final accuracy on the test set!"
      ]
    },
    {
      "cell_type": "code",
      "metadata": {
        "id": "vAEInxlAvcG1"
      },
      "source": [
        ""
      ],
      "execution_count": null,
      "outputs": []
    }
  ]
}