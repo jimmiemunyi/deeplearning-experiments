{
  "cells": [
    {
      "cell_type": "markdown",
      "metadata": {},
      "source": [
        "<a href=\"https://colab.research.google.com/github/jimmiemunyi/deeplearning-experiments/blob/main/notebooks/PyTorch_Hooks.ipynb\" target=\"_parent\"><img src=\"https://colab.research.google.com/assets/colab-badge.svg\" alt=\"Open In Colab\"/></a>"
      ]
    },
    {
      "cell_type": "code",
      "execution_count": 1,
      "metadata": {
        "colab": {
          "base_uri": "https://localhost:8080/"
        },
        "id": "F1lTDyoNqNCK",
        "outputId": "3129c6e9-a56a-434a-8304-27193e271bc8"
      },
      "outputs": [
        {
          "name": "stdout",
          "output_type": "stream",
          "text": [
            "\u001b[?25l\r\u001b[K     |▉                               | 10 kB 20.4 MB/s eta 0:00:01\r\u001b[K     |█▊                              | 20 kB 26.8 MB/s eta 0:00:01\r\u001b[K     |██▋                             | 30 kB 22.1 MB/s eta 0:00:01\r\u001b[K     |███▌                            | 40 kB 17.5 MB/s eta 0:00:01\r\u001b[K     |████▍                           | 51 kB 8.6 MB/s eta 0:00:01\r\u001b[K     |█████▏                          | 61 kB 7.0 MB/s eta 0:00:01\r\u001b[K     |██████                          | 71 kB 7.2 MB/s eta 0:00:01\r\u001b[K     |███████                         | 81 kB 8.1 MB/s eta 0:00:01\r\u001b[K     |███████▉                        | 92 kB 8.0 MB/s eta 0:00:01\r\u001b[K     |████████▊                       | 102 kB 7.8 MB/s eta 0:00:01\r\u001b[K     |█████████▋                      | 112 kB 7.8 MB/s eta 0:00:01\r\u001b[K     |██████████▍                     | 122 kB 7.8 MB/s eta 0:00:01\r\u001b[K     |███████████▎                    | 133 kB 7.8 MB/s eta 0:00:01\r\u001b[K     |████████████▏                   | 143 kB 7.8 MB/s eta 0:00:01\r\u001b[K     |█████████████                   | 153 kB 7.8 MB/s eta 0:00:01\r\u001b[K     |██████████████                  | 163 kB 7.8 MB/s eta 0:00:01\r\u001b[K     |██████████████▊                 | 174 kB 7.8 MB/s eta 0:00:01\r\u001b[K     |███████████████▋                | 184 kB 7.8 MB/s eta 0:00:01\r\u001b[K     |████████████████▌               | 194 kB 7.8 MB/s eta 0:00:01\r\u001b[K     |█████████████████▍              | 204 kB 7.8 MB/s eta 0:00:01\r\u001b[K     |██████████████████▎             | 215 kB 7.8 MB/s eta 0:00:01\r\u001b[K     |███████████████████▏            | 225 kB 7.8 MB/s eta 0:00:01\r\u001b[K     |████████████████████            | 235 kB 7.8 MB/s eta 0:00:01\r\u001b[K     |████████████████████▉           | 245 kB 7.8 MB/s eta 0:00:01\r\u001b[K     |█████████████████████▊          | 256 kB 7.8 MB/s eta 0:00:01\r\u001b[K     |██████████████████████▋         | 266 kB 7.8 MB/s eta 0:00:01\r\u001b[K     |███████████████████████▌        | 276 kB 7.8 MB/s eta 0:00:01\r\u001b[K     |████████████████████████▍       | 286 kB 7.8 MB/s eta 0:00:01\r\u001b[K     |█████████████████████████▏      | 296 kB 7.8 MB/s eta 0:00:01\r\u001b[K     |██████████████████████████      | 307 kB 7.8 MB/s eta 0:00:01\r\u001b[K     |███████████████████████████     | 317 kB 7.8 MB/s eta 0:00:01\r\u001b[K     |███████████████████████████▉    | 327 kB 7.8 MB/s eta 0:00:01\r\u001b[K     |████████████████████████████▊   | 337 kB 7.8 MB/s eta 0:00:01\r\u001b[K     |█████████████████████████████▌  | 348 kB 7.8 MB/s eta 0:00:01\r\u001b[K     |██████████████████████████████▍ | 358 kB 7.8 MB/s eta 0:00:01\r\u001b[K     |███████████████████████████████▎| 368 kB 7.8 MB/s eta 0:00:01\r\u001b[K     |████████████████████████████████| 376 kB 7.8 MB/s \n",
            "\u001b[?25h"
          ]
        }
      ],
      "source": [
        "!pip install -Uqq timm"
      ]
    },
    {
      "cell_type": "code",
      "execution_count": 2,
      "metadata": {
        "id": "kEnmeTU2qAty"
      },
      "outputs": [],
      "source": [
        "import torch\n",
        "import torch.nn as nn\n",
        "import torch.nn.functional as F\n",
        "import timm\n",
        "\n",
        "import numpy as np\n",
        "import matplotlib.pyplot as plt\n"
      ]
    },
    {
      "cell_type": "code",
      "execution_count": 3,
      "metadata": {
        "id": "jrbKXucqq2Qe"
      },
      "outputs": [],
      "source": [
        "class Network(nn.Module):\n",
        "  def __init__(self):\n",
        "    super(Network, self).__init__()\n",
        "\n",
        "    self.conv = nn.Conv2d(3, 10, kernel_size=3)\n",
        "    self.avgpool = nn.AdaptiveAvgPool2d(1)\n",
        "    self.flatten = nn.Flatten()\n",
        "    self.fc_1 = nn.Linear(10, 20)\n",
        "    self.fc_2 = nn.Linear(20, 30)\n",
        "    self.fc_3 = nn.Linear(30, 2)\n",
        "\n",
        "  def forward(self, x):\n",
        "    out = self.conv(x)\n",
        "    out = self.avgpool(out)\n",
        "    out = self.flatten(out)\n",
        "    out = self.fc_1(out)\n",
        "    out = self.fc_2(out)\n",
        "    out = self.fc_3(out)\n",
        "    out = F.relu(out)\n",
        "\n",
        "    return out"
      ]
    },
    {
      "cell_type": "code",
      "execution_count": 4,
      "metadata": {
        "colab": {
          "base_uri": "https://localhost:8080/"
        },
        "id": "CYAjWcxRyOzr",
        "outputId": "06f67c4b-d20e-42d2-a02e-799f33b55225"
      },
      "outputs": [
        {
          "data": {
            "text/plain": [
              "torch.Size([1, 2])"
            ]
          },
          "execution_count": 4,
          "metadata": {},
          "output_type": "execute_result"
        }
      ],
      "source": [
        "x = torch.randn(1, 3, 224, 224)\n",
        "net = Network()\n",
        "\n",
        "net(x).shape"
      ]
    },
    {
      "cell_type": "code",
      "execution_count": 5,
      "metadata": {
        "id": "qeO_jJLKyWvj"
      },
      "outputs": [],
      "source": [
        "def activation_hook(inst, inp, out):\n",
        "  print('This hook can access me')\n",
        "  print(out.shape)"
      ]
    },
    {
      "cell_type": "code",
      "execution_count": 6,
      "metadata": {
        "colab": {
          "base_uri": "https://localhost:8080/"
        },
        "id": "WlPd8IMV0gv2",
        "outputId": "b8afdc8b-6c2d-42e5-bc2c-04858a34208d"
      },
      "outputs": [
        {
          "data": {
            "text/plain": [
              "[('conv', Conv2d(3, 10, kernel_size=(3, 3), stride=(1, 1))),\n",
              " ('avgpool', AdaptiveAvgPool2d(output_size=1)),\n",
              " ('flatten', Flatten(start_dim=1, end_dim=-1)),\n",
              " ('fc_1', Linear(in_features=10, out_features=20, bias=True)),\n",
              " ('fc_2', Linear(in_features=20, out_features=30, bias=True)),\n",
              " ('fc_3', Linear(in_features=30, out_features=2, bias=True))]"
            ]
          },
          "execution_count": 6,
          "metadata": {},
          "output_type": "execute_result"
        }
      ],
      "source": [
        "list(net.named_children())"
      ]
    },
    {
      "cell_type": "code",
      "execution_count": 7,
      "metadata": {
        "colab": {
          "base_uri": "https://localhost:8080/"
        },
        "id": "r5wLgm5IyePg",
        "outputId": "23c7782c-3010-491f-ce81-adba131bb6a8"
      },
      "outputs": [
        {
          "name": "stdout",
          "output_type": "stream",
          "text": [
            "adding hook to conv\n",
            "This hook can access me\n",
            "torch.Size([1, 10, 222, 222])\n"
          ]
        },
        {
          "data": {
            "text/plain": [
              "tensor([[0., 0.]], grad_fn=<ReluBackward0>)"
            ]
          },
          "execution_count": 7,
          "metadata": {},
          "output_type": "execute_result"
        }
      ],
      "source": [
        "x = torch.randn(1, 3, 224, 224)\n",
        "net = Network()\n",
        "\n",
        "for name, module in net.named_children():\n",
        "  if isinstance(module, nn.Conv2d):\n",
        "    print(f'adding hook to {name}')\n",
        "    module.register_forward_hook(activation_hook)\n",
        "net(x)"
      ]
    },
    {
      "cell_type": "markdown",
      "metadata": {
        "id": "-hG59cl61JHv"
      },
      "source": [
        "## Verbose Model Execution"
      ]
    },
    {
      "cell_type": "code",
      "execution_count": 8,
      "metadata": {
        "id": "QUvcZ5svyp4S"
      },
      "outputs": [],
      "source": [
        "class VerboseExecution(nn.Module):\n",
        "  def __init__(self, model: nn.Module):\n",
        "    super().__init__()\n",
        "    self.model = model\n",
        "\n",
        "    # Register a hook for each layer\n",
        "    for name, layer in self.model.named_children():\n",
        "      layer.__name__ = name\n",
        "      layer.register_forward_hook(\n",
        "          lambda layer, _, output: print(f'{layer.__name__}: {output.shape}')\n",
        "      )\n",
        "  \n",
        "  def forward(self, x: torch.Tensor) -> torch.Tensor:\n",
        "    return self.model(x)"
      ]
    },
    {
      "cell_type": "code",
      "execution_count": 9,
      "metadata": {
        "colab": {
          "base_uri": "https://localhost:8080/"
        },
        "id": "6EUqKuD812AK",
        "outputId": "a8729bd0-3a5b-4691-aae4-e3803d1f75fb"
      },
      "outputs": [
        {
          "name": "stdout",
          "output_type": "stream",
          "text": [
            "conv1: torch.Size([10, 64, 112, 112])\n",
            "bn1: torch.Size([10, 64, 112, 112])\n",
            "act1: torch.Size([10, 64, 112, 112])\n",
            "maxpool: torch.Size([10, 64, 56, 56])\n"
          ]
        },
        {
          "name": "stderr",
          "output_type": "stream",
          "text": [
            "/usr/local/lib/python3.7/dist-packages/torch/nn/functional.py:718: UserWarning: Named tensors and all their associated APIs are an experimental feature and subject to change. Please do not use them for anything important until they are released as stable. (Triggered internally at  /pytorch/c10/core/TensorImpl.h:1156.)\n",
            "  return torch.max_pool2d(input, kernel_size, stride, padding, dilation, ceil_mode)\n"
          ]
        },
        {
          "name": "stdout",
          "output_type": "stream",
          "text": [
            "layer1: torch.Size([10, 64, 56, 56])\n",
            "layer2: torch.Size([10, 128, 28, 28])\n",
            "layer3: torch.Size([10, 256, 14, 14])\n",
            "layer4: torch.Size([10, 512, 7, 7])\n",
            "global_pool: torch.Size([10, 512])\n",
            "fc: torch.Size([10, 1000])\n"
          ]
        }
      ],
      "source": [
        "model = timm.create_model('resnet18', pretrained=False)\n",
        "verbose_model = VerboseExecution(model)\n",
        "\n",
        "x = torch.randn(10, 3, 224, 224)\n",
        "_ = verbose_model(x)"
      ]
    },
    {
      "cell_type": "markdown",
      "metadata": {
        "id": "Yap8qI5N5Jbz"
      },
      "source": [
        "## Feature Extraction"
      ]
    },
    {
      "cell_type": "code",
      "execution_count": 10,
      "metadata": {
        "id": "VtBzef8C2P7z"
      },
      "outputs": [],
      "source": [
        "from typing import Dict, Iterable, Callable"
      ]
    },
    {
      "cell_type": "code",
      "execution_count": 11,
      "metadata": {
        "id": "pi7X-TJn5RVB"
      },
      "outputs": [],
      "source": [
        "class FeatureExtractor(nn.Module):\n",
        "  def __init__(self, model: nn.Module, layers: Iterable[str]):\n",
        "    super().__init__()\n",
        "    self.model = model\n",
        "    self.layers = layers\n",
        "    self._features = {layer: torch.empty(0) for layer in layers}\n",
        "\n",
        "    for layer_id in layers:\n",
        "      layer = dict([*self.model.named_modules()])[layer_id]\n",
        "      layer.register_forward_hook(self.save_outputs_hook(layer_id))\n",
        "    \n",
        "  def save_outputs_hook(self, layer_id: str) -> Callable:\n",
        "    def fn(_,__,output):\n",
        "      self._features[layer_id] = output\n",
        "    \n",
        "    return fn\n",
        "\n",
        "  def forward(self, x:torch.Tensor) -> Dict[str, torch.Tensor]:\n",
        "    _ = self.model(x)\n",
        "    return self._features"
      ]
    },
    {
      "cell_type": "code",
      "execution_count": 12,
      "metadata": {
        "colab": {
          "base_uri": "https://localhost:8080/"
        },
        "id": "fy6o8_y_8DSC",
        "outputId": "2a2489d2-4315-4262-9a3b-e1cbadf63403"
      },
      "outputs": [
        {
          "name": "stdout",
          "output_type": "stream",
          "text": [
            "conv1: torch.Size([10, 64, 112, 112])\n",
            "bn1: torch.Size([10, 64, 112, 112])\n",
            "act1: torch.Size([10, 64, 112, 112])\n",
            "maxpool: torch.Size([10, 64, 56, 56])\n",
            "layer1: torch.Size([10, 64, 56, 56])\n",
            "layer2: torch.Size([10, 128, 28, 28])\n",
            "layer3: torch.Size([10, 256, 14, 14])\n",
            "layer4: torch.Size([10, 512, 7, 7])\n",
            "global_pool: torch.Size([10, 512])\n",
            "fc: torch.Size([10, 1000])\n"
          ]
        }
      ],
      "source": [
        "x = torch.randn(10, 3, 224, 224)\n",
        "\n",
        "resnet_features = FeatureExtractor(model, layers=[\"layer4\", \"global_pool\"])\n",
        "features = resnet_features(x)"
      ]
    },
    {
      "cell_type": "code",
      "execution_count": 13,
      "metadata": {
        "colab": {
          "base_uri": "https://localhost:8080/"
        },
        "id": "vAKvi91a9Euj",
        "outputId": "d6b72f64-20f7-47e7-a76b-32d453b87a0e"
      },
      "outputs": [
        {
          "name": "stdout",
          "output_type": "stream",
          "text": [
            "{'layer4': torch.Size([10, 512, 7, 7]), 'global_pool': torch.Size([10, 512])}\n"
          ]
        }
      ],
      "source": [
        "print({name: output.shape for name, output in features.items()})"
      ]
    },
    {
      "cell_type": "markdown",
      "metadata": {
        "id": "vHPp308g-BJG"
      },
      "source": [
        "## CAM"
      ]
    },
    {
      "cell_type": "code",
      "execution_count": 14,
      "metadata": {
        "id": "s6sMLunN9tsZ"
      },
      "outputs": [],
      "source": [
        "class Hook():\n",
        "  def hook_func(self, m, i, o):\n",
        "    self.stored = o.detach().clone()\n",
        "  \n",
        "  def __repr__(self):\n",
        "    return 'Conv Hook'"
      ]
    },
    {
      "cell_type": "code",
      "execution_count": 15,
      "metadata": {
        "id": "veMwm1aa-Txy"
      },
      "outputs": [],
      "source": [
        "conv_hook = Hook()"
      ]
    },
    {
      "cell_type": "code",
      "execution_count": 16,
      "metadata": {
        "colab": {
          "base_uri": "https://localhost:8080/"
        },
        "id": "I2ZtbMEK-3YS",
        "outputId": "f098d611-3823-47c4-8536-cb3599d798d2"
      },
      "outputs": [
        {
          "name": "stdout",
          "output_type": "stream",
          "text": [
            "adding hook to conv1\n"
          ]
        }
      ],
      "source": [
        "model = timm.create_model('resnet18', pretrained=False)\n",
        "\n",
        "for name, module in model.named_children():\n",
        "  if isinstance(module, nn.Conv2d):\n",
        "    print(f'adding hook to {name}')\n",
        "    hook = module.register_forward_hook(conv_hook.hook_func)\n",
        "\n",
        "input = torch.randn(10, 3, 224, 224)\n",
        "output = model(input)\n",
        "\n",
        "hook.remove()"
      ]
    },
    {
      "cell_type": "code",
      "execution_count": 17,
      "metadata": {
        "id": "XhrrK54RBfks"
      },
      "outputs": [],
      "source": [
        "act = conv_hook.stored"
      ]
    },
    {
      "cell_type": "code",
      "execution_count": 18,
      "metadata": {
        "colab": {
          "base_uri": "https://localhost:8080/"
        },
        "id": "zfgMwLKLBzCS",
        "outputId": "bbc4b57f-3c23-4dc2-816a-ed63ff9723e8"
      },
      "outputs": [
        {
          "data": {
            "text/plain": [
              "torch.Size([10, 64, 112, 112])"
            ]
          },
          "execution_count": 18,
          "metadata": {},
          "output_type": "execute_result"
        }
      ],
      "source": [
        "act.shape"
      ]
    },
    {
      "cell_type": "markdown",
      "metadata": {
        "id": "T2ZLRTq1gxG0"
      },
      "source": [
        "## Visualizing Activation in Resnet-34"
      ]
    },
    {
      "cell_type": "code",
      "execution_count": 19,
      "metadata": {
        "id": "Ou98DW4VB2sA"
      },
      "outputs": [],
      "source": [
        "class Hook():\n",
        "  def __init__(self, m):\n",
        "    # list to store all of our hooks\n",
        "    self.hooks = []\n",
        "    for name, module in m.named_modules():\n",
        "      if isinstance(module, nn.Conv2d):\n",
        "          print(f'adding hook to {name}')\n",
        "          hook = module.register_forward_hook(self.hook_func)\n",
        "          self.hooks.append(hook)\n",
        "    \n",
        "    self.hists = []\n",
        "    self.stored, self.removed = None, False\n",
        "  \n",
        "  def hook_func(self, m, i, o):\n",
        "    \"Applies `hook_func` to `module`, `input`, `output`.\"\n",
        "    output = o.detach().clone()\n",
        "    self.hists.append(output.cpu().histc(40, 0, 10))\n",
        "  \n",
        "  def remove(self):\n",
        "    \"Remove the hook from the model.\"\n",
        "    if not self.removed:\n",
        "      for hook in self.hooks:\n",
        "        hook.remove()\n",
        "      self.removed=True\n",
        "\n",
        "  def __enter__(self, *args):\n",
        "    return self\n",
        "  \n",
        "  def __exit__(self, *args):\n",
        "    self.remove()"
      ]
    },
    {
      "cell_type": "code",
      "execution_count": 20,
      "metadata": {
        "colab": {
          "base_uri": "https://localhost:8080/"
        },
        "id": "P2NNYH_ADf2m",
        "outputId": "6fbf40c7-c2c0-4672-cf95-434b08366fe0"
      },
      "outputs": [
        {
          "name": "stdout",
          "output_type": "stream",
          "text": [
            "adding hook to conv1\n",
            "adding hook to layer1.0.conv1\n",
            "adding hook to layer1.0.conv2\n",
            "adding hook to layer1.1.conv1\n",
            "adding hook to layer1.1.conv2\n",
            "adding hook to layer2.0.conv1\n",
            "adding hook to layer2.0.conv2\n",
            "adding hook to layer2.0.downsample.0\n",
            "adding hook to layer2.1.conv1\n",
            "adding hook to layer2.1.conv2\n",
            "adding hook to layer3.0.conv1\n",
            "adding hook to layer3.0.conv2\n",
            "adding hook to layer3.0.downsample.0\n",
            "adding hook to layer3.1.conv1\n",
            "adding hook to layer3.1.conv2\n",
            "adding hook to layer4.0.conv1\n",
            "adding hook to layer4.0.conv2\n",
            "adding hook to layer4.0.downsample.0\n",
            "adding hook to layer4.1.conv1\n",
            "adding hook to layer4.1.conv2\n"
          ]
        },
        {
          "data": {
            "text/plain": [
              "20"
            ]
          },
          "execution_count": 20,
          "metadata": {},
          "output_type": "execute_result"
        }
      ],
      "source": [
        "model = timm.create_model('resnet18', pretrained=False)\n",
        "with Hook(model) as hook:\n",
        "  input = torch.randn(10, 3, 224, 224)\n",
        "  output = model(input)\n",
        "  acts = hook.hists\n",
        "\n",
        "len(acts)"
      ]
    },
    {
      "cell_type": "code",
      "execution_count": 21,
      "metadata": {
        "colab": {
          "base_uri": "https://localhost:8080/"
        },
        "id": "gZHkoUVrcjZd",
        "outputId": "0392c7e0-6931-4314-ab6d-87f8553545a9"
      },
      "outputs": [
        {
          "name": "stdout",
          "output_type": "stream",
          "text": [
            "10\n"
          ]
        },
        {
          "data": {
            "text/plain": [
              "Conv2d(256, 512, kernel_size=(3, 3), stride=(2, 2), padding=(1, 1), bias=False)"
            ]
          },
          "execution_count": 21,
          "metadata": {},
          "output_type": "execute_result"
        }
      ],
      "source": [
        "model = timm.create_model('resnet34', pretrained=False)\n",
        "layers = list((model.children()))\n",
        "model =  nn.Sequential(*layers)\n",
        "print(len(model))\n",
        "model[7][0].conv1"
      ]
    },
    {
      "cell_type": "code",
      "execution_count": 22,
      "metadata": {
        "id": "TALjE__5ZCYB"
      },
      "outputs": [],
      "source": [
        "def important_layers(model):\n",
        "  model = nn.Sequential(*list(model.children()))\n",
        "  imp = []\n",
        "\n",
        "  # append important layers\n",
        "  imp.append(model[0])\n",
        "  imp.append(model[4][0].conv1)\n",
        "  imp.append(model[5][0].conv1)\n",
        "  imp.append(model[6][0].conv1)\n",
        "  imp.append(model[7][0].conv1)\n",
        "\n",
        "  return imp\n",
        "  "
      ]
    },
    {
      "cell_type": "code",
      "execution_count": 23,
      "metadata": {
        "colab": {
          "base_uri": "https://localhost:8080/"
        },
        "id": "SnMbxVPJgeCm",
        "outputId": "aaf7c18b-15e6-4774-efdc-f24b0a89074d"
      },
      "outputs": [
        {
          "data": {
            "text/plain": [
              "[Conv2d(3, 64, kernel_size=(7, 7), stride=(2, 2), padding=(3, 3), bias=False),\n",
              " Conv2d(64, 64, kernel_size=(3, 3), stride=(1, 1), padding=(1, 1), bias=False),\n",
              " Conv2d(64, 128, kernel_size=(3, 3), stride=(2, 2), padding=(1, 1), bias=False),\n",
              " Conv2d(128, 256, kernel_size=(3, 3), stride=(2, 2), padding=(1, 1), bias=False),\n",
              " Conv2d(256, 512, kernel_size=(3, 3), stride=(2, 2), padding=(1, 1), bias=False)]"
            ]
          },
          "execution_count": 23,
          "metadata": {},
          "output_type": "execute_result"
        }
      ],
      "source": [
        "model = timm.create_model('resnet18', pretrained=False)\n",
        "important_layers(model)"
      ]
    },
    {
      "cell_type": "code",
      "execution_count": 24,
      "metadata": {
        "id": "38nAd8RV-jrF"
      },
      "outputs": [],
      "source": [
        "names = [\n",
        "    'conv1',\n",
        "    'conv2_x',\n",
        "    'conv3_x',\n",
        "    'conv4_x',\n",
        "    'conv5_x']"
      ]
    },
    {
      "cell_type": "code",
      "execution_count": 30,
      "metadata": {
        "colab": {
          "base_uri": "https://localhost:8080/"
        },
        "id": "ur5ZcCN1-pIM",
        "outputId": "afaebe38-ef04-4040-cdf3-c0dbb4cc9d84"
      },
      "outputs": [
        {
          "data": {
            "text/plain": [
              "Conv2d(3, 64, kernel_size=(7, 7), stride=(2, 2), padding=(3, 3), bias=False)"
            ]
          },
          "execution_count": 30,
          "metadata": {},
          "output_type": "execute_result"
        }
      ],
      "source": [
        "layer, name = (list(zip(important_layers(model), names))[0])\n",
        "layer"
      ]
    },
    {
      "cell_type": "code",
      "execution_count": 31,
      "metadata": {
        "colab": {
          "base_uri": "https://localhost:8080/",
          "height": 35
        },
        "id": "1r5_WzUL_pJr",
        "outputId": "a6eceed6-2ec3-4c20-ef98-3964efd8937e"
      },
      "outputs": [
        {
          "data": {
            "application/vnd.google.colaboratory.intrinsic+json": {
              "type": "string"
            },
            "text/plain": [
              "'conv1'"
            ]
          },
          "execution_count": 31,
          "metadata": {},
          "output_type": "execute_result"
        }
      ],
      "source": [
        "name"
      ]
    },
    {
      "cell_type": "code",
      "execution_count": 44,
      "metadata": {
        "id": "Gd9V6FNAgkmw"
      },
      "outputs": [],
      "source": [
        "class Hook():\n",
        "  \"\"\"\n",
        "  This hook is meant to be used per layer\n",
        "  that is, for every different layer you want to store its activations\n",
        "  attach a different instance of this class\n",
        "\n",
        "  __________________________________________\n",
        "  Args:\n",
        "  \n",
        "  layer: nn.Module - The layer that you want to attach the hook\n",
        "  name:str - The name you want to give that layer\n",
        "  __________________________________________\n",
        "  \"\"\"\n",
        "  def __init__(self, layer):\n",
        "    self.hook = layer.register_forward_hook(self.hook_func)\n",
        "    self.hists = []\n",
        "    self.stored, self.removed = None, False\n",
        "  \n",
        "  def hook_func(self, m, i, o):\n",
        "    \"Applies `hook_func` to `module`, `input`, `output`.\"\n",
        "    output = o.detach().clone()\n",
        "    self.hists.append(output.cpu().histc(40, 0, 10))\n",
        "  \n",
        "  def remove(self):\n",
        "    \"Remove the hook from the model.\"\n",
        "    if not self.removed:\n",
        "      self.hook.remove()\n",
        "      self.removed=True\n",
        "\n",
        "  def __enter__(self, *args):\n",
        "    return self\n",
        "  \n",
        "  def __exit__(self, *args):\n",
        "    self.remove()"
      ]
    },
    {
      "cell_type": "markdown",
      "metadata": {
        "id": "f1ywaCNZCu5B"
      },
      "source": [
        "Testing For One Layer"
      ]
    },
    {
      "cell_type": "markdown",
      "metadata": {
        "id": "XwBcGSZcCoRf"
      },
      "source": [
        "Run Once"
      ]
    },
    {
      "cell_type": "code",
      "execution_count": 45,
      "metadata": {
        "colab": {
          "base_uri": "https://localhost:8080/"
        },
        "id": "nzD95L8chyyO",
        "outputId": "23632e42-0ff3-4a8a-f339-8f558e5b59c7"
      },
      "outputs": [
        {
          "data": {
            "text/plain": [
              "(1, 'conv1')"
            ]
          },
          "execution_count": 45,
          "metadata": {},
          "output_type": "execute_result"
        }
      ],
      "source": [
        "model = timm.create_model('resnet18', pretrained=False)\n",
        "layer, name = list(zip(important_layers(model), names))[0]\n",
        "with Hook(layer) as hook:\n",
        "  input = torch.randn(10, 3, 224, 224)\n",
        "  output = model(input)\n",
        "  acts = hook.hists\n",
        "\n",
        "len(acts), name"
      ]
    },
    {
      "cell_type": "markdown",
      "metadata": {
        "id": "ZBp77EHbCpru"
      },
      "source": [
        "Run Multipe Times to simulate training loop"
      ]
    },
    {
      "cell_type": "code",
      "execution_count": 58,
      "metadata": {
        "id": "1po6IemJG24y"
      },
      "outputs": [],
      "source": [
        "def get_hist(h): \n",
        "    return torch.stack(h.hists).t().float().log1p()"
      ]
    },
    {
      "cell_type": "code",
      "execution_count": 65,
      "metadata": {
        "id": "f2NCuw9nC27F"
      },
      "outputs": [],
      "source": [
        "model = timm.create_model('resnet18', pretrained=False)\n",
        "layer = important_layers(model)[0]\n",
        "\n",
        "hook_1 = Hook(layer)\n",
        "input = torch.randn(10, 3, 224, 224)\n",
        "\n",
        "# Loop simulating training loop\n",
        "for i in range(5):\n",
        "  model(input)\n",
        "\n",
        "# remember to remove the hook\n",
        "hook_1.remove()\n",
        "\n",
        "hook_1_hists = get_hist(hook_1)"
      ]
    },
    {
      "cell_type": "code",
      "execution_count": 64,
      "metadata": {
        "colab": {
          "base_uri": "https://localhost:8080/",
          "height": 300
        },
        "id": "Xp980hVGHGJT",
        "outputId": "e85b2dc7-e661-40ac-99be-e811216db6a5"
      },
      "outputs": [
        {
          "data": {
            "image/png": "[encoded data removed]",
            "text/plain": [
              "<Figure size 432x288 with 1 Axes>"
            ]
          },
          "metadata": {
            "needs_background": "light"
          },
          "output_type": "display_data"
        }
      ],
      "source": [
        "plt.plot(figsize=(15,10))\n",
        "plt.imshow(get_hist(hook_1), origin='lower', aspect='auto')\n",
        "plt.axis('off')\n",
        "plt.text(0, -5, names[0], bbox={'facecolor':'red', 'alpha':0.0, 'pad':10})\n",
        "plt.tight_layout()"
      ]
    },
    {
      "cell_type": "markdown",
      "metadata": {
        "id": "NNrU1qwxH2b-"
      },
      "source": [
        "Run for all layers now:"
      ]
    },
    {
      "cell_type": "code",
      "execution_count": 71,
      "metadata": {
        "id": "PseDf1G5H7eH"
      },
      "outputs": [],
      "source": [
        "model = timm.create_model('resnet34', pretrained=True)\n",
        "\n",
        "# store the hooks\n",
        "hooks = []\n",
        "\n",
        "# names of the layers\n",
        "names = ['conv1',\n",
        "         'conv2_x',\n",
        "         'conv3_x',\n",
        "         'conv4_x',\n",
        "         'conv5_x']\n",
        "\n",
        "# instantiate the hooks\n",
        "for layer in important_layers(model):\n",
        "  hooks.append(Hook(layer))\n",
        "\n",
        "# Simulate training loop\n",
        "for i in range(5):\n",
        "  input = torch.randn(10, 3, 224, 224)\n",
        "  model(input)\n",
        "\n",
        "# remove the hooks at the end\n",
        "for hook in hooks:\n",
        "  hook.remove()"
      ]
    },
    {
      "cell_type": "markdown",
      "metadata": {
        "id": "z0LyCRGQJLQ8"
      },
      "source": [
        "Plot the extracted activations now"
      ]
    },
    {
      "cell_type": "code",
      "execution_count": 72,
      "metadata": {
        "colab": {
          "base_uri": "https://localhost:8080/",
          "height": 732
        },
        "id": "L8GuRq5BJPpe",
        "outputId": "522a34c3-20c7-45f2-db3e-4527cffa3629"
      },
      "outputs": [
        {
          "data": {
            "image/png": "[encoded data removed]",
            "text/plain": [
              "<Figure size 1080x720 with 5 Axes>"
            ]
          },
          "metadata": {
            "needs_background": "light"
          },
          "output_type": "display_data"
        }
      ],
      "source": [
        "fig,axes = plt.subplots(5, figsize=(15,10))\n",
        "\n",
        "for i, (ax,h) in enumerate(zip(axes.flatten(), hooks)):\n",
        "    ax.imshow(get_hist(h), origin='lower', aspect='auto')\n",
        "    ax.axis('off')\n",
        "    ax.text(0, -5, names[i], bbox={'facecolor':'red', 'alpha':0.0, 'pad':10})\n",
        "plt.tight_layout()"
      ]
    },
    {
      "cell_type": "markdown",
      "metadata": {
        "id": "B5jRfAt7JaD2"
      },
      "source": [
        "Yesssssss! Finally"
      ]
    },
    {
      "cell_type": "markdown",
      "metadata": {
        "id": "cZiNenvYJcvI"
      },
      "source": [
        "Not these activations look similar all the way through but they will change during real training"
      ]
    },
    {
      "cell_type": "markdown",
      "metadata": {
        "id": "f1WCTkMPJmoJ"
      },
      "source": [
        "Shoutout to this notebook: https://nbviewer.org/github/JoshVarty/VisualizingActivations/blob/master/VisualizingActivations.ipynb"
      ]
    },
    {
      "cell_type": "code",
      "execution_count": null,
      "metadata": {
        "id": "x_7eED0fJqJ8"
      },
      "outputs": [],
      "source": []
    }
  ],
  "metadata": {
    "colab": {
      "collapsed_sections": [],
      "name": "PyTorch Hooks.ipynb",
      "provenance": []
    },
    "kernelspec": {
      "display_name": "Python 3",
      "name": "python3"
    },
    "language_info": {
      "name": "python"
    }
  },
  "nbformat": 4,
  "nbformat_minor": 0
}
